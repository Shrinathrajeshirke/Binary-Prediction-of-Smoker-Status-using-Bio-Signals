{
 "cells": [
  {
   "cell_type": "markdown",
   "id": "fcd4938b",
   "metadata": {},
   "source": [
    "#### Importing libraries"
   ]
  },
  {
   "cell_type": "code",
   "execution_count": 1,
   "id": "230d2583",
   "metadata": {
    "scrolled": true
   },
   "outputs": [
    {
     "name": "stdout",
     "output_type": "stream",
     "text": [
      "import libraries\n",
      "Libraries imported\n"
     ]
    }
   ],
   "source": [
    "print(\"import libraries\")\n",
    "\n",
    "#to disable notebook warnings\n",
    "import warnings\n",
    "warnings.filterwarnings('ignore')\n",
    "\n",
    "# data processing\n",
    "import pandas as pd\n",
    "\n",
    "# linear algebra\n",
    "import numpy as np\n",
    "\n",
    "# data visualization\n",
    "import matplotlib.pyplot as plt\n",
    "import seaborn as sns\n",
    "\n",
    "# data standardization\n",
    "from sklearn.preprocessing import RobustScaler\n",
    "\n",
    "# ML\n",
    "from sklearn.linear_model import LogisticRegression\n",
    "from sklearn.metrics import classification_report, confusion_matrix\n",
    "\n",
    "print(\"Libraries imported\")"
   ]
  },
  {
   "cell_type": "code",
   "execution_count": 2,
   "id": "25cab4e5",
   "metadata": {},
   "outputs": [],
   "source": [
    "## To set display settings\n",
    "pd.options.display.float_format = '{:,.3f}'.format\n",
    "pd.set_option('display.max_columns', None)"
   ]
  },
  {
   "cell_type": "markdown",
   "id": "f6e27fe0",
   "metadata": {},
   "source": [
    "#### Reading data"
   ]
  },
  {
   "cell_type": "code",
   "execution_count": 3,
   "id": "9a44b290",
   "metadata": {},
   "outputs": [],
   "source": [
    "def read_data(path):\n",
    "    data = pd.read_csv(path)\n",
    "    return data"
   ]
  },
  {
   "cell_type": "code",
   "execution_count": 4,
   "id": "056d989b",
   "metadata": {
    "scrolled": true
   },
   "outputs": [
    {
     "data": {
      "text/html": [
       "<div>\n",
       "<style scoped>\n",
       "    .dataframe tbody tr th:only-of-type {\n",
       "        vertical-align: middle;\n",
       "    }\n",
       "\n",
       "    .dataframe tbody tr th {\n",
       "        vertical-align: top;\n",
       "    }\n",
       "\n",
       "    .dataframe thead th {\n",
       "        text-align: right;\n",
       "    }\n",
       "</style>\n",
       "<table border=\"1\" class=\"dataframe\">\n",
       "  <thead>\n",
       "    <tr style=\"text-align: right;\">\n",
       "      <th></th>\n",
       "      <th>id</th>\n",
       "      <th>age</th>\n",
       "      <th>height(cm)</th>\n",
       "      <th>weight(kg)</th>\n",
       "      <th>waist(cm)</th>\n",
       "      <th>eyesight(left)</th>\n",
       "      <th>eyesight(right)</th>\n",
       "      <th>hearing(left)</th>\n",
       "      <th>hearing(right)</th>\n",
       "      <th>systolic</th>\n",
       "      <th>relaxation</th>\n",
       "      <th>fasting blood sugar</th>\n",
       "      <th>Cholesterol</th>\n",
       "      <th>triglyceride</th>\n",
       "      <th>HDL</th>\n",
       "      <th>LDL</th>\n",
       "      <th>hemoglobin</th>\n",
       "      <th>Urine protein</th>\n",
       "      <th>serum creatinine</th>\n",
       "      <th>AST</th>\n",
       "      <th>ALT</th>\n",
       "      <th>Gtp</th>\n",
       "      <th>dental caries</th>\n",
       "      <th>smoking</th>\n",
       "    </tr>\n",
       "  </thead>\n",
       "  <tbody>\n",
       "    <tr>\n",
       "      <th>0</th>\n",
       "      <td>0</td>\n",
       "      <td>55</td>\n",
       "      <td>165</td>\n",
       "      <td>60</td>\n",
       "      <td>81.000</td>\n",
       "      <td>0.500</td>\n",
       "      <td>0.600</td>\n",
       "      <td>1</td>\n",
       "      <td>1</td>\n",
       "      <td>135</td>\n",
       "      <td>87</td>\n",
       "      <td>94</td>\n",
       "      <td>172</td>\n",
       "      <td>300</td>\n",
       "      <td>40</td>\n",
       "      <td>75</td>\n",
       "      <td>16.500</td>\n",
       "      <td>1</td>\n",
       "      <td>1.000</td>\n",
       "      <td>22</td>\n",
       "      <td>25</td>\n",
       "      <td>27</td>\n",
       "      <td>0</td>\n",
       "      <td>1</td>\n",
       "    </tr>\n",
       "    <tr>\n",
       "      <th>1</th>\n",
       "      <td>1</td>\n",
       "      <td>70</td>\n",
       "      <td>165</td>\n",
       "      <td>65</td>\n",
       "      <td>89.000</td>\n",
       "      <td>0.600</td>\n",
       "      <td>0.700</td>\n",
       "      <td>2</td>\n",
       "      <td>2</td>\n",
       "      <td>146</td>\n",
       "      <td>83</td>\n",
       "      <td>147</td>\n",
       "      <td>194</td>\n",
       "      <td>55</td>\n",
       "      <td>57</td>\n",
       "      <td>126</td>\n",
       "      <td>16.200</td>\n",
       "      <td>1</td>\n",
       "      <td>1.100</td>\n",
       "      <td>27</td>\n",
       "      <td>23</td>\n",
       "      <td>37</td>\n",
       "      <td>1</td>\n",
       "      <td>0</td>\n",
       "    </tr>\n",
       "    <tr>\n",
       "      <th>2</th>\n",
       "      <td>2</td>\n",
       "      <td>20</td>\n",
       "      <td>170</td>\n",
       "      <td>75</td>\n",
       "      <td>81.000</td>\n",
       "      <td>0.400</td>\n",
       "      <td>0.500</td>\n",
       "      <td>1</td>\n",
       "      <td>1</td>\n",
       "      <td>118</td>\n",
       "      <td>75</td>\n",
       "      <td>79</td>\n",
       "      <td>178</td>\n",
       "      <td>197</td>\n",
       "      <td>45</td>\n",
       "      <td>93</td>\n",
       "      <td>17.400</td>\n",
       "      <td>1</td>\n",
       "      <td>0.800</td>\n",
       "      <td>27</td>\n",
       "      <td>31</td>\n",
       "      <td>53</td>\n",
       "      <td>0</td>\n",
       "      <td>1</td>\n",
       "    </tr>\n",
       "    <tr>\n",
       "      <th>3</th>\n",
       "      <td>3</td>\n",
       "      <td>35</td>\n",
       "      <td>180</td>\n",
       "      <td>95</td>\n",
       "      <td>105.000</td>\n",
       "      <td>1.500</td>\n",
       "      <td>1.200</td>\n",
       "      <td>1</td>\n",
       "      <td>1</td>\n",
       "      <td>131</td>\n",
       "      <td>88</td>\n",
       "      <td>91</td>\n",
       "      <td>180</td>\n",
       "      <td>203</td>\n",
       "      <td>38</td>\n",
       "      <td>102</td>\n",
       "      <td>15.900</td>\n",
       "      <td>1</td>\n",
       "      <td>1.000</td>\n",
       "      <td>20</td>\n",
       "      <td>27</td>\n",
       "      <td>30</td>\n",
       "      <td>1</td>\n",
       "      <td>0</td>\n",
       "    </tr>\n",
       "    <tr>\n",
       "      <th>4</th>\n",
       "      <td>4</td>\n",
       "      <td>30</td>\n",
       "      <td>165</td>\n",
       "      <td>60</td>\n",
       "      <td>80.500</td>\n",
       "      <td>1.500</td>\n",
       "      <td>1.000</td>\n",
       "      <td>1</td>\n",
       "      <td>1</td>\n",
       "      <td>121</td>\n",
       "      <td>76</td>\n",
       "      <td>91</td>\n",
       "      <td>155</td>\n",
       "      <td>87</td>\n",
       "      <td>44</td>\n",
       "      <td>93</td>\n",
       "      <td>15.400</td>\n",
       "      <td>1</td>\n",
       "      <td>0.800</td>\n",
       "      <td>19</td>\n",
       "      <td>13</td>\n",
       "      <td>17</td>\n",
       "      <td>0</td>\n",
       "      <td>1</td>\n",
       "    </tr>\n",
       "  </tbody>\n",
       "</table>\n",
       "</div>"
      ],
      "text/plain": [
       "   id  age  height(cm)  weight(kg)  waist(cm)  eyesight(left)  \\\n",
       "0   0   55         165          60     81.000           0.500   \n",
       "1   1   70         165          65     89.000           0.600   \n",
       "2   2   20         170          75     81.000           0.400   \n",
       "3   3   35         180          95    105.000           1.500   \n",
       "4   4   30         165          60     80.500           1.500   \n",
       "\n",
       "   eyesight(right)  hearing(left)  hearing(right)  systolic  relaxation  \\\n",
       "0            0.600              1               1       135          87   \n",
       "1            0.700              2               2       146          83   \n",
       "2            0.500              1               1       118          75   \n",
       "3            1.200              1               1       131          88   \n",
       "4            1.000              1               1       121          76   \n",
       "\n",
       "   fasting blood sugar  Cholesterol  triglyceride  HDL  LDL  hemoglobin  \\\n",
       "0                   94          172           300   40   75      16.500   \n",
       "1                  147          194            55   57  126      16.200   \n",
       "2                   79          178           197   45   93      17.400   \n",
       "3                   91          180           203   38  102      15.900   \n",
       "4                   91          155            87   44   93      15.400   \n",
       "\n",
       "   Urine protein  serum creatinine  AST  ALT  Gtp  dental caries  smoking  \n",
       "0              1             1.000   22   25   27              0        1  \n",
       "1              1             1.100   27   23   37              1        0  \n",
       "2              1             0.800   27   31   53              0        1  \n",
       "3              1             1.000   20   27   30              1        0  \n",
       "4              1             0.800   19   13   17              0        1  "
      ]
     },
     "execution_count": 4,
     "metadata": {},
     "output_type": "execute_result"
    }
   ],
   "source": [
    "train_data = read_data('./train.csv')\n",
    "train_data.head()"
   ]
  },
  {
   "cell_type": "code",
   "execution_count": 5,
   "id": "7bc307d4",
   "metadata": {
    "scrolled": true
   },
   "outputs": [
    {
     "data": {
      "text/html": [
       "<div>\n",
       "<style scoped>\n",
       "    .dataframe tbody tr th:only-of-type {\n",
       "        vertical-align: middle;\n",
       "    }\n",
       "\n",
       "    .dataframe tbody tr th {\n",
       "        vertical-align: top;\n",
       "    }\n",
       "\n",
       "    .dataframe thead th {\n",
       "        text-align: right;\n",
       "    }\n",
       "</style>\n",
       "<table border=\"1\" class=\"dataframe\">\n",
       "  <thead>\n",
       "    <tr style=\"text-align: right;\">\n",
       "      <th></th>\n",
       "      <th>id</th>\n",
       "      <th>age</th>\n",
       "      <th>height(cm)</th>\n",
       "      <th>weight(kg)</th>\n",
       "      <th>waist(cm)</th>\n",
       "      <th>eyesight(left)</th>\n",
       "      <th>eyesight(right)</th>\n",
       "      <th>hearing(left)</th>\n",
       "      <th>hearing(right)</th>\n",
       "      <th>systolic</th>\n",
       "      <th>relaxation</th>\n",
       "      <th>fasting blood sugar</th>\n",
       "      <th>Cholesterol</th>\n",
       "      <th>triglyceride</th>\n",
       "      <th>HDL</th>\n",
       "      <th>LDL</th>\n",
       "      <th>hemoglobin</th>\n",
       "      <th>Urine protein</th>\n",
       "      <th>serum creatinine</th>\n",
       "      <th>AST</th>\n",
       "      <th>ALT</th>\n",
       "      <th>Gtp</th>\n",
       "      <th>dental caries</th>\n",
       "    </tr>\n",
       "  </thead>\n",
       "  <tbody>\n",
       "    <tr>\n",
       "      <th>0</th>\n",
       "      <td>159256</td>\n",
       "      <td>40</td>\n",
       "      <td>165</td>\n",
       "      <td>70</td>\n",
       "      <td>84.000</td>\n",
       "      <td>1.200</td>\n",
       "      <td>1.200</td>\n",
       "      <td>1</td>\n",
       "      <td>1</td>\n",
       "      <td>130</td>\n",
       "      <td>89</td>\n",
       "      <td>107</td>\n",
       "      <td>200</td>\n",
       "      <td>186</td>\n",
       "      <td>49</td>\n",
       "      <td>115</td>\n",
       "      <td>14.200</td>\n",
       "      <td>1</td>\n",
       "      <td>0.900</td>\n",
       "      <td>19</td>\n",
       "      <td>25</td>\n",
       "      <td>32</td>\n",
       "      <td>0</td>\n",
       "    </tr>\n",
       "    <tr>\n",
       "      <th>1</th>\n",
       "      <td>159257</td>\n",
       "      <td>80</td>\n",
       "      <td>160</td>\n",
       "      <td>60</td>\n",
       "      <td>93.000</td>\n",
       "      <td>1.000</td>\n",
       "      <td>1.000</td>\n",
       "      <td>2</td>\n",
       "      <td>2</td>\n",
       "      <td>144</td>\n",
       "      <td>72</td>\n",
       "      <td>93</td>\n",
       "      <td>172</td>\n",
       "      <td>158</td>\n",
       "      <td>35</td>\n",
       "      <td>104</td>\n",
       "      <td>13.000</td>\n",
       "      <td>1</td>\n",
       "      <td>1.100</td>\n",
       "      <td>20</td>\n",
       "      <td>12</td>\n",
       "      <td>24</td>\n",
       "      <td>0</td>\n",
       "    </tr>\n",
       "    <tr>\n",
       "      <th>2</th>\n",
       "      <td>159258</td>\n",
       "      <td>60</td>\n",
       "      <td>170</td>\n",
       "      <td>70</td>\n",
       "      <td>86.500</td>\n",
       "      <td>0.600</td>\n",
       "      <td>0.700</td>\n",
       "      <td>1</td>\n",
       "      <td>1</td>\n",
       "      <td>117</td>\n",
       "      <td>75</td>\n",
       "      <td>92</td>\n",
       "      <td>161</td>\n",
       "      <td>173</td>\n",
       "      <td>39</td>\n",
       "      <td>88</td>\n",
       "      <td>15.400</td>\n",
       "      <td>1</td>\n",
       "      <td>1.400</td>\n",
       "      <td>38</td>\n",
       "      <td>60</td>\n",
       "      <td>36</td>\n",
       "      <td>0</td>\n",
       "    </tr>\n",
       "    <tr>\n",
       "      <th>3</th>\n",
       "      <td>159259</td>\n",
       "      <td>40</td>\n",
       "      <td>160</td>\n",
       "      <td>50</td>\n",
       "      <td>67.000</td>\n",
       "      <td>0.300</td>\n",
       "      <td>0.400</td>\n",
       "      <td>1</td>\n",
       "      <td>1</td>\n",
       "      <td>116</td>\n",
       "      <td>62</td>\n",
       "      <td>91</td>\n",
       "      <td>213</td>\n",
       "      <td>47</td>\n",
       "      <td>75</td>\n",
       "      <td>128</td>\n",
       "      <td>14.500</td>\n",
       "      <td>1</td>\n",
       "      <td>0.600</td>\n",
       "      <td>25</td>\n",
       "      <td>18</td>\n",
       "      <td>10</td>\n",
       "      <td>1</td>\n",
       "    </tr>\n",
       "    <tr>\n",
       "      <th>4</th>\n",
       "      <td>159260</td>\n",
       "      <td>40</td>\n",
       "      <td>170</td>\n",
       "      <td>75</td>\n",
       "      <td>89.400</td>\n",
       "      <td>1.000</td>\n",
       "      <td>0.900</td>\n",
       "      <td>1</td>\n",
       "      <td>1</td>\n",
       "      <td>132</td>\n",
       "      <td>94</td>\n",
       "      <td>79</td>\n",
       "      <td>170</td>\n",
       "      <td>100</td>\n",
       "      <td>39</td>\n",
       "      <td>123</td>\n",
       "      <td>16.500</td>\n",
       "      <td>1</td>\n",
       "      <td>1.000</td>\n",
       "      <td>30</td>\n",
       "      <td>39</td>\n",
       "      <td>27</td>\n",
       "      <td>1</td>\n",
       "    </tr>\n",
       "  </tbody>\n",
       "</table>\n",
       "</div>"
      ],
      "text/plain": [
       "       id  age  height(cm)  weight(kg)  waist(cm)  eyesight(left)  \\\n",
       "0  159256   40         165          70     84.000           1.200   \n",
       "1  159257   80         160          60     93.000           1.000   \n",
       "2  159258   60         170          70     86.500           0.600   \n",
       "3  159259   40         160          50     67.000           0.300   \n",
       "4  159260   40         170          75     89.400           1.000   \n",
       "\n",
       "   eyesight(right)  hearing(left)  hearing(right)  systolic  relaxation  \\\n",
       "0            1.200              1               1       130          89   \n",
       "1            1.000              2               2       144          72   \n",
       "2            0.700              1               1       117          75   \n",
       "3            0.400              1               1       116          62   \n",
       "4            0.900              1               1       132          94   \n",
       "\n",
       "   fasting blood sugar  Cholesterol  triglyceride  HDL  LDL  hemoglobin  \\\n",
       "0                  107          200           186   49  115      14.200   \n",
       "1                   93          172           158   35  104      13.000   \n",
       "2                   92          161           173   39   88      15.400   \n",
       "3                   91          213            47   75  128      14.500   \n",
       "4                   79          170           100   39  123      16.500   \n",
       "\n",
       "   Urine protein  serum creatinine  AST  ALT  Gtp  dental caries  \n",
       "0              1             0.900   19   25   32              0  \n",
       "1              1             1.100   20   12   24              0  \n",
       "2              1             1.400   38   60   36              0  \n",
       "3              1             0.600   25   18   10              1  \n",
       "4              1             1.000   30   39   27              1  "
      ]
     },
     "execution_count": 5,
     "metadata": {},
     "output_type": "execute_result"
    }
   ],
   "source": [
    "test_data = read_data('./test.csv')\n",
    "test_data.head()"
   ]
  },
  {
   "cell_type": "code",
   "execution_count": 6,
   "id": "f28a9dd1",
   "metadata": {},
   "outputs": [],
   "source": [
    "## dropping \"id\" column\n",
    "\n",
    "train_data = train_data.drop(columns=['id'])\n",
    "test_data = test_data.drop(columns=['id'])\n"
   ]
  },
  {
   "cell_type": "markdown",
   "id": "0d40c2bb",
   "metadata": {},
   "source": [
    "#### Analyzing training data"
   ]
  },
  {
   "cell_type": "code",
   "execution_count": 7,
   "id": "07ff9690",
   "metadata": {},
   "outputs": [],
   "source": [
    "def analyze_data(data):\n",
    "    \n",
    "    print(\"DataFrame Info:\")\n",
    "    print(\"=================================\")\n",
    "    display(data.info())\n",
    "    print(\"\\n\")\n",
    "    \n",
    "    print(\"DataFrame Values:\")\n",
    "    print(\"=================================\")\n",
    "    display(data.head())\n",
    "    print(\"\\n\")\n",
    "    \n",
    "    print(\"DataFrame Desscription\")\n",
    "    print(\"=================================\")\n",
    "    display(data.describe())\n",
    "    print(\"\\n\")\n",
    "    \n",
    "    print(\"Number of null values\")\n",
    "    print(\"=================================\")\n",
    "    display(data.isnull().sum())\n",
    "    print(\"\\n\")\n",
    "    \n",
    "    print(\"Number of duplicated values\")\n",
    "    print(\"==================================\")\n",
    "    display(data.duplicated().sum())\n",
    "    print(\"\\n\")\n",
    "    \n",
    "    print(\"Number of unique values\")\n",
    "    print(\"==================================\")\n",
    "    display(data.nunique())\n",
    "    print(\"\\n\")\n",
    "    \n",
    "    print(\"Dataframe Shape\")\n",
    "    print(\"===================================\")\n",
    "    print(f\"Rows: {data.shape[0]}, Columns: {data.shape[1]}\")\n",
    "    "
   ]
  },
  {
   "cell_type": "code",
   "execution_count": 8,
   "id": "6b0af052",
   "metadata": {
    "scrolled": true
   },
   "outputs": [
    {
     "name": "stdout",
     "output_type": "stream",
     "text": [
      "DataFrame Info:\n",
      "=================================\n",
      "<class 'pandas.core.frame.DataFrame'>\n",
      "RangeIndex: 159256 entries, 0 to 159255\n",
      "Data columns (total 23 columns):\n",
      " #   Column               Non-Null Count   Dtype  \n",
      "---  ------               --------------   -----  \n",
      " 0   age                  159256 non-null  int64  \n",
      " 1   height(cm)           159256 non-null  int64  \n",
      " 2   weight(kg)           159256 non-null  int64  \n",
      " 3   waist(cm)            159256 non-null  float64\n",
      " 4   eyesight(left)       159256 non-null  float64\n",
      " 5   eyesight(right)      159256 non-null  float64\n",
      " 6   hearing(left)        159256 non-null  int64  \n",
      " 7   hearing(right)       159256 non-null  int64  \n",
      " 8   systolic             159256 non-null  int64  \n",
      " 9   relaxation           159256 non-null  int64  \n",
      " 10  fasting blood sugar  159256 non-null  int64  \n",
      " 11  Cholesterol          159256 non-null  int64  \n",
      " 12  triglyceride         159256 non-null  int64  \n",
      " 13  HDL                  159256 non-null  int64  \n",
      " 14  LDL                  159256 non-null  int64  \n",
      " 15  hemoglobin           159256 non-null  float64\n",
      " 16  Urine protein        159256 non-null  int64  \n",
      " 17  serum creatinine     159256 non-null  float64\n",
      " 18  AST                  159256 non-null  int64  \n",
      " 19  ALT                  159256 non-null  int64  \n",
      " 20  Gtp                  159256 non-null  int64  \n",
      " 21  dental caries        159256 non-null  int64  \n",
      " 22  smoking              159256 non-null  int64  \n",
      "dtypes: float64(5), int64(18)\n",
      "memory usage: 27.9 MB\n"
     ]
    },
    {
     "data": {
      "text/plain": [
       "None"
      ]
     },
     "metadata": {},
     "output_type": "display_data"
    },
    {
     "name": "stdout",
     "output_type": "stream",
     "text": [
      "\n",
      "\n",
      "DataFrame Values:\n",
      "=================================\n"
     ]
    },
    {
     "data": {
      "text/html": [
       "<div>\n",
       "<style scoped>\n",
       "    .dataframe tbody tr th:only-of-type {\n",
       "        vertical-align: middle;\n",
       "    }\n",
       "\n",
       "    .dataframe tbody tr th {\n",
       "        vertical-align: top;\n",
       "    }\n",
       "\n",
       "    .dataframe thead th {\n",
       "        text-align: right;\n",
       "    }\n",
       "</style>\n",
       "<table border=\"1\" class=\"dataframe\">\n",
       "  <thead>\n",
       "    <tr style=\"text-align: right;\">\n",
       "      <th></th>\n",
       "      <th>age</th>\n",
       "      <th>height(cm)</th>\n",
       "      <th>weight(kg)</th>\n",
       "      <th>waist(cm)</th>\n",
       "      <th>eyesight(left)</th>\n",
       "      <th>eyesight(right)</th>\n",
       "      <th>hearing(left)</th>\n",
       "      <th>hearing(right)</th>\n",
       "      <th>systolic</th>\n",
       "      <th>relaxation</th>\n",
       "      <th>fasting blood sugar</th>\n",
       "      <th>Cholesterol</th>\n",
       "      <th>triglyceride</th>\n",
       "      <th>HDL</th>\n",
       "      <th>LDL</th>\n",
       "      <th>hemoglobin</th>\n",
       "      <th>Urine protein</th>\n",
       "      <th>serum creatinine</th>\n",
       "      <th>AST</th>\n",
       "      <th>ALT</th>\n",
       "      <th>Gtp</th>\n",
       "      <th>dental caries</th>\n",
       "      <th>smoking</th>\n",
       "    </tr>\n",
       "  </thead>\n",
       "  <tbody>\n",
       "    <tr>\n",
       "      <th>0</th>\n",
       "      <td>55</td>\n",
       "      <td>165</td>\n",
       "      <td>60</td>\n",
       "      <td>81.000</td>\n",
       "      <td>0.500</td>\n",
       "      <td>0.600</td>\n",
       "      <td>1</td>\n",
       "      <td>1</td>\n",
       "      <td>135</td>\n",
       "      <td>87</td>\n",
       "      <td>94</td>\n",
       "      <td>172</td>\n",
       "      <td>300</td>\n",
       "      <td>40</td>\n",
       "      <td>75</td>\n",
       "      <td>16.500</td>\n",
       "      <td>1</td>\n",
       "      <td>1.000</td>\n",
       "      <td>22</td>\n",
       "      <td>25</td>\n",
       "      <td>27</td>\n",
       "      <td>0</td>\n",
       "      <td>1</td>\n",
       "    </tr>\n",
       "    <tr>\n",
       "      <th>1</th>\n",
       "      <td>70</td>\n",
       "      <td>165</td>\n",
       "      <td>65</td>\n",
       "      <td>89.000</td>\n",
       "      <td>0.600</td>\n",
       "      <td>0.700</td>\n",
       "      <td>2</td>\n",
       "      <td>2</td>\n",
       "      <td>146</td>\n",
       "      <td>83</td>\n",
       "      <td>147</td>\n",
       "      <td>194</td>\n",
       "      <td>55</td>\n",
       "      <td>57</td>\n",
       "      <td>126</td>\n",
       "      <td>16.200</td>\n",
       "      <td>1</td>\n",
       "      <td>1.100</td>\n",
       "      <td>27</td>\n",
       "      <td>23</td>\n",
       "      <td>37</td>\n",
       "      <td>1</td>\n",
       "      <td>0</td>\n",
       "    </tr>\n",
       "    <tr>\n",
       "      <th>2</th>\n",
       "      <td>20</td>\n",
       "      <td>170</td>\n",
       "      <td>75</td>\n",
       "      <td>81.000</td>\n",
       "      <td>0.400</td>\n",
       "      <td>0.500</td>\n",
       "      <td>1</td>\n",
       "      <td>1</td>\n",
       "      <td>118</td>\n",
       "      <td>75</td>\n",
       "      <td>79</td>\n",
       "      <td>178</td>\n",
       "      <td>197</td>\n",
       "      <td>45</td>\n",
       "      <td>93</td>\n",
       "      <td>17.400</td>\n",
       "      <td>1</td>\n",
       "      <td>0.800</td>\n",
       "      <td>27</td>\n",
       "      <td>31</td>\n",
       "      <td>53</td>\n",
       "      <td>0</td>\n",
       "      <td>1</td>\n",
       "    </tr>\n",
       "    <tr>\n",
       "      <th>3</th>\n",
       "      <td>35</td>\n",
       "      <td>180</td>\n",
       "      <td>95</td>\n",
       "      <td>105.000</td>\n",
       "      <td>1.500</td>\n",
       "      <td>1.200</td>\n",
       "      <td>1</td>\n",
       "      <td>1</td>\n",
       "      <td>131</td>\n",
       "      <td>88</td>\n",
       "      <td>91</td>\n",
       "      <td>180</td>\n",
       "      <td>203</td>\n",
       "      <td>38</td>\n",
       "      <td>102</td>\n",
       "      <td>15.900</td>\n",
       "      <td>1</td>\n",
       "      <td>1.000</td>\n",
       "      <td>20</td>\n",
       "      <td>27</td>\n",
       "      <td>30</td>\n",
       "      <td>1</td>\n",
       "      <td>0</td>\n",
       "    </tr>\n",
       "    <tr>\n",
       "      <th>4</th>\n",
       "      <td>30</td>\n",
       "      <td>165</td>\n",
       "      <td>60</td>\n",
       "      <td>80.500</td>\n",
       "      <td>1.500</td>\n",
       "      <td>1.000</td>\n",
       "      <td>1</td>\n",
       "      <td>1</td>\n",
       "      <td>121</td>\n",
       "      <td>76</td>\n",
       "      <td>91</td>\n",
       "      <td>155</td>\n",
       "      <td>87</td>\n",
       "      <td>44</td>\n",
       "      <td>93</td>\n",
       "      <td>15.400</td>\n",
       "      <td>1</td>\n",
       "      <td>0.800</td>\n",
       "      <td>19</td>\n",
       "      <td>13</td>\n",
       "      <td>17</td>\n",
       "      <td>0</td>\n",
       "      <td>1</td>\n",
       "    </tr>\n",
       "  </tbody>\n",
       "</table>\n",
       "</div>"
      ],
      "text/plain": [
       "   age  height(cm)  weight(kg)  waist(cm)  eyesight(left)  eyesight(right)  \\\n",
       "0   55         165          60     81.000           0.500            0.600   \n",
       "1   70         165          65     89.000           0.600            0.700   \n",
       "2   20         170          75     81.000           0.400            0.500   \n",
       "3   35         180          95    105.000           1.500            1.200   \n",
       "4   30         165          60     80.500           1.500            1.000   \n",
       "\n",
       "   hearing(left)  hearing(right)  systolic  relaxation  fasting blood sugar  \\\n",
       "0              1               1       135          87                   94   \n",
       "1              2               2       146          83                  147   \n",
       "2              1               1       118          75                   79   \n",
       "3              1               1       131          88                   91   \n",
       "4              1               1       121          76                   91   \n",
       "\n",
       "   Cholesterol  triglyceride  HDL  LDL  hemoglobin  Urine protein  \\\n",
       "0          172           300   40   75      16.500              1   \n",
       "1          194            55   57  126      16.200              1   \n",
       "2          178           197   45   93      17.400              1   \n",
       "3          180           203   38  102      15.900              1   \n",
       "4          155            87   44   93      15.400              1   \n",
       "\n",
       "   serum creatinine  AST  ALT  Gtp  dental caries  smoking  \n",
       "0             1.000   22   25   27              0        1  \n",
       "1             1.100   27   23   37              1        0  \n",
       "2             0.800   27   31   53              0        1  \n",
       "3             1.000   20   27   30              1        0  \n",
       "4             0.800   19   13   17              0        1  "
      ]
     },
     "metadata": {},
     "output_type": "display_data"
    },
    {
     "name": "stdout",
     "output_type": "stream",
     "text": [
      "\n",
      "\n",
      "DataFrame Desscription\n",
      "=================================\n"
     ]
    },
    {
     "data": {
      "text/html": [
       "<div>\n",
       "<style scoped>\n",
       "    .dataframe tbody tr th:only-of-type {\n",
       "        vertical-align: middle;\n",
       "    }\n",
       "\n",
       "    .dataframe tbody tr th {\n",
       "        vertical-align: top;\n",
       "    }\n",
       "\n",
       "    .dataframe thead th {\n",
       "        text-align: right;\n",
       "    }\n",
       "</style>\n",
       "<table border=\"1\" class=\"dataframe\">\n",
       "  <thead>\n",
       "    <tr style=\"text-align: right;\">\n",
       "      <th></th>\n",
       "      <th>age</th>\n",
       "      <th>height(cm)</th>\n",
       "      <th>weight(kg)</th>\n",
       "      <th>waist(cm)</th>\n",
       "      <th>eyesight(left)</th>\n",
       "      <th>eyesight(right)</th>\n",
       "      <th>hearing(left)</th>\n",
       "      <th>hearing(right)</th>\n",
       "      <th>systolic</th>\n",
       "      <th>relaxation</th>\n",
       "      <th>fasting blood sugar</th>\n",
       "      <th>Cholesterol</th>\n",
       "      <th>triglyceride</th>\n",
       "      <th>HDL</th>\n",
       "      <th>LDL</th>\n",
       "      <th>hemoglobin</th>\n",
       "      <th>Urine protein</th>\n",
       "      <th>serum creatinine</th>\n",
       "      <th>AST</th>\n",
       "      <th>ALT</th>\n",
       "      <th>Gtp</th>\n",
       "      <th>dental caries</th>\n",
       "      <th>smoking</th>\n",
       "    </tr>\n",
       "  </thead>\n",
       "  <tbody>\n",
       "    <tr>\n",
       "      <th>count</th>\n",
       "      <td>159,256.000</td>\n",
       "      <td>159,256.000</td>\n",
       "      <td>159,256.000</td>\n",
       "      <td>159,256.000</td>\n",
       "      <td>159,256.000</td>\n",
       "      <td>159,256.000</td>\n",
       "      <td>159,256.000</td>\n",
       "      <td>159,256.000</td>\n",
       "      <td>159,256.000</td>\n",
       "      <td>159,256.000</td>\n",
       "      <td>159,256.000</td>\n",
       "      <td>159,256.000</td>\n",
       "      <td>159,256.000</td>\n",
       "      <td>159,256.000</td>\n",
       "      <td>159,256.000</td>\n",
       "      <td>159,256.000</td>\n",
       "      <td>159,256.000</td>\n",
       "      <td>159,256.000</td>\n",
       "      <td>159,256.000</td>\n",
       "      <td>159,256.000</td>\n",
       "      <td>159,256.000</td>\n",
       "      <td>159,256.000</td>\n",
       "      <td>159,256.000</td>\n",
       "    </tr>\n",
       "    <tr>\n",
       "      <th>mean</th>\n",
       "      <td>44.307</td>\n",
       "      <td>165.267</td>\n",
       "      <td>67.144</td>\n",
       "      <td>83.002</td>\n",
       "      <td>1.006</td>\n",
       "      <td>1.001</td>\n",
       "      <td>1.024</td>\n",
       "      <td>1.023</td>\n",
       "      <td>122.504</td>\n",
       "      <td>76.874</td>\n",
       "      <td>98.353</td>\n",
       "      <td>195.796</td>\n",
       "      <td>127.616</td>\n",
       "      <td>55.853</td>\n",
       "      <td>114.608</td>\n",
       "      <td>14.797</td>\n",
       "      <td>1.074</td>\n",
       "      <td>0.893</td>\n",
       "      <td>25.517</td>\n",
       "      <td>26.550</td>\n",
       "      <td>36.216</td>\n",
       "      <td>0.198</td>\n",
       "      <td>0.437</td>\n",
       "    </tr>\n",
       "    <tr>\n",
       "      <th>std</th>\n",
       "      <td>11.842</td>\n",
       "      <td>8.819</td>\n",
       "      <td>12.586</td>\n",
       "      <td>8.958</td>\n",
       "      <td>0.402</td>\n",
       "      <td>0.392</td>\n",
       "      <td>0.153</td>\n",
       "      <td>0.151</td>\n",
       "      <td>12.729</td>\n",
       "      <td>8.995</td>\n",
       "      <td>15.330</td>\n",
       "      <td>28.397</td>\n",
       "      <td>66.189</td>\n",
       "      <td>13.964</td>\n",
       "      <td>28.159</td>\n",
       "      <td>1.431</td>\n",
       "      <td>0.348</td>\n",
       "      <td>0.179</td>\n",
       "      <td>9.465</td>\n",
       "      <td>17.753</td>\n",
       "      <td>31.205</td>\n",
       "      <td>0.398</td>\n",
       "      <td>0.496</td>\n",
       "    </tr>\n",
       "    <tr>\n",
       "      <th>min</th>\n",
       "      <td>20.000</td>\n",
       "      <td>135.000</td>\n",
       "      <td>30.000</td>\n",
       "      <td>51.000</td>\n",
       "      <td>0.100</td>\n",
       "      <td>0.100</td>\n",
       "      <td>1.000</td>\n",
       "      <td>1.000</td>\n",
       "      <td>77.000</td>\n",
       "      <td>44.000</td>\n",
       "      <td>46.000</td>\n",
       "      <td>77.000</td>\n",
       "      <td>8.000</td>\n",
       "      <td>9.000</td>\n",
       "      <td>1.000</td>\n",
       "      <td>4.900</td>\n",
       "      <td>1.000</td>\n",
       "      <td>0.100</td>\n",
       "      <td>6.000</td>\n",
       "      <td>1.000</td>\n",
       "      <td>2.000</td>\n",
       "      <td>0.000</td>\n",
       "      <td>0.000</td>\n",
       "    </tr>\n",
       "    <tr>\n",
       "      <th>25%</th>\n",
       "      <td>40.000</td>\n",
       "      <td>160.000</td>\n",
       "      <td>60.000</td>\n",
       "      <td>77.000</td>\n",
       "      <td>0.800</td>\n",
       "      <td>0.800</td>\n",
       "      <td>1.000</td>\n",
       "      <td>1.000</td>\n",
       "      <td>114.000</td>\n",
       "      <td>70.000</td>\n",
       "      <td>90.000</td>\n",
       "      <td>175.000</td>\n",
       "      <td>77.000</td>\n",
       "      <td>45.000</td>\n",
       "      <td>95.000</td>\n",
       "      <td>13.800</td>\n",
       "      <td>1.000</td>\n",
       "      <td>0.800</td>\n",
       "      <td>20.000</td>\n",
       "      <td>16.000</td>\n",
       "      <td>18.000</td>\n",
       "      <td>0.000</td>\n",
       "      <td>0.000</td>\n",
       "    </tr>\n",
       "    <tr>\n",
       "      <th>50%</th>\n",
       "      <td>40.000</td>\n",
       "      <td>165.000</td>\n",
       "      <td>65.000</td>\n",
       "      <td>83.000</td>\n",
       "      <td>1.000</td>\n",
       "      <td>1.000</td>\n",
       "      <td>1.000</td>\n",
       "      <td>1.000</td>\n",
       "      <td>121.000</td>\n",
       "      <td>78.000</td>\n",
       "      <td>96.000</td>\n",
       "      <td>196.000</td>\n",
       "      <td>115.000</td>\n",
       "      <td>54.000</td>\n",
       "      <td>114.000</td>\n",
       "      <td>15.000</td>\n",
       "      <td>1.000</td>\n",
       "      <td>0.900</td>\n",
       "      <td>24.000</td>\n",
       "      <td>22.000</td>\n",
       "      <td>27.000</td>\n",
       "      <td>0.000</td>\n",
       "      <td>0.000</td>\n",
       "    </tr>\n",
       "    <tr>\n",
       "      <th>75%</th>\n",
       "      <td>55.000</td>\n",
       "      <td>170.000</td>\n",
       "      <td>75.000</td>\n",
       "      <td>89.000</td>\n",
       "      <td>1.200</td>\n",
       "      <td>1.200</td>\n",
       "      <td>1.000</td>\n",
       "      <td>1.000</td>\n",
       "      <td>130.000</td>\n",
       "      <td>82.000</td>\n",
       "      <td>103.000</td>\n",
       "      <td>217.000</td>\n",
       "      <td>165.000</td>\n",
       "      <td>64.000</td>\n",
       "      <td>133.000</td>\n",
       "      <td>15.800</td>\n",
       "      <td>1.000</td>\n",
       "      <td>1.000</td>\n",
       "      <td>29.000</td>\n",
       "      <td>32.000</td>\n",
       "      <td>44.000</td>\n",
       "      <td>0.000</td>\n",
       "      <td>1.000</td>\n",
       "    </tr>\n",
       "    <tr>\n",
       "      <th>max</th>\n",
       "      <td>85.000</td>\n",
       "      <td>190.000</td>\n",
       "      <td>130.000</td>\n",
       "      <td>127.000</td>\n",
       "      <td>9.900</td>\n",
       "      <td>9.900</td>\n",
       "      <td>2.000</td>\n",
       "      <td>2.000</td>\n",
       "      <td>213.000</td>\n",
       "      <td>133.000</td>\n",
       "      <td>375.000</td>\n",
       "      <td>393.000</td>\n",
       "      <td>766.000</td>\n",
       "      <td>136.000</td>\n",
       "      <td>1,860.000</td>\n",
       "      <td>21.000</td>\n",
       "      <td>6.000</td>\n",
       "      <td>9.900</td>\n",
       "      <td>778.000</td>\n",
       "      <td>2,914.000</td>\n",
       "      <td>999.000</td>\n",
       "      <td>1.000</td>\n",
       "      <td>1.000</td>\n",
       "    </tr>\n",
       "  </tbody>\n",
       "</table>\n",
       "</div>"
      ],
      "text/plain": [
       "              age  height(cm)  weight(kg)   waist(cm)  eyesight(left)  \\\n",
       "count 159,256.000 159,256.000 159,256.000 159,256.000     159,256.000   \n",
       "mean       44.307     165.267      67.144      83.002           1.006   \n",
       "std        11.842       8.819      12.586       8.958           0.402   \n",
       "min        20.000     135.000      30.000      51.000           0.100   \n",
       "25%        40.000     160.000      60.000      77.000           0.800   \n",
       "50%        40.000     165.000      65.000      83.000           1.000   \n",
       "75%        55.000     170.000      75.000      89.000           1.200   \n",
       "max        85.000     190.000     130.000     127.000           9.900   \n",
       "\n",
       "       eyesight(right)  hearing(left)  hearing(right)    systolic  relaxation  \\\n",
       "count      159,256.000    159,256.000     159,256.000 159,256.000 159,256.000   \n",
       "mean             1.001          1.024           1.023     122.504      76.874   \n",
       "std              0.392          0.153           0.151      12.729       8.995   \n",
       "min              0.100          1.000           1.000      77.000      44.000   \n",
       "25%              0.800          1.000           1.000     114.000      70.000   \n",
       "50%              1.000          1.000           1.000     121.000      78.000   \n",
       "75%              1.200          1.000           1.000     130.000      82.000   \n",
       "max              9.900          2.000           2.000     213.000     133.000   \n",
       "\n",
       "       fasting blood sugar  Cholesterol  triglyceride         HDL         LDL  \\\n",
       "count          159,256.000  159,256.000   159,256.000 159,256.000 159,256.000   \n",
       "mean                98.353      195.796       127.616      55.853     114.608   \n",
       "std                 15.330       28.397        66.189      13.964      28.159   \n",
       "min                 46.000       77.000         8.000       9.000       1.000   \n",
       "25%                 90.000      175.000        77.000      45.000      95.000   \n",
       "50%                 96.000      196.000       115.000      54.000     114.000   \n",
       "75%                103.000      217.000       165.000      64.000     133.000   \n",
       "max                375.000      393.000       766.000     136.000   1,860.000   \n",
       "\n",
       "       hemoglobin  Urine protein  serum creatinine         AST         ALT  \\\n",
       "count 159,256.000    159,256.000       159,256.000 159,256.000 159,256.000   \n",
       "mean       14.797          1.074             0.893      25.517      26.550   \n",
       "std         1.431          0.348             0.179       9.465      17.753   \n",
       "min         4.900          1.000             0.100       6.000       1.000   \n",
       "25%        13.800          1.000             0.800      20.000      16.000   \n",
       "50%        15.000          1.000             0.900      24.000      22.000   \n",
       "75%        15.800          1.000             1.000      29.000      32.000   \n",
       "max        21.000          6.000             9.900     778.000   2,914.000   \n",
       "\n",
       "              Gtp  dental caries     smoking  \n",
       "count 159,256.000    159,256.000 159,256.000  \n",
       "mean       36.216          0.198       0.437  \n",
       "std        31.205          0.398       0.496  \n",
       "min         2.000          0.000       0.000  \n",
       "25%        18.000          0.000       0.000  \n",
       "50%        27.000          0.000       0.000  \n",
       "75%        44.000          0.000       1.000  \n",
       "max       999.000          1.000       1.000  "
      ]
     },
     "metadata": {},
     "output_type": "display_data"
    },
    {
     "name": "stdout",
     "output_type": "stream",
     "text": [
      "\n",
      "\n",
      "Number of null values\n",
      "=================================\n"
     ]
    },
    {
     "data": {
      "text/plain": [
       "age                    0\n",
       "height(cm)             0\n",
       "weight(kg)             0\n",
       "waist(cm)              0\n",
       "eyesight(left)         0\n",
       "eyesight(right)        0\n",
       "hearing(left)          0\n",
       "hearing(right)         0\n",
       "systolic               0\n",
       "relaxation             0\n",
       "fasting blood sugar    0\n",
       "Cholesterol            0\n",
       "triglyceride           0\n",
       "HDL                    0\n",
       "LDL                    0\n",
       "hemoglobin             0\n",
       "Urine protein          0\n",
       "serum creatinine       0\n",
       "AST                    0\n",
       "ALT                    0\n",
       "Gtp                    0\n",
       "dental caries          0\n",
       "smoking                0\n",
       "dtype: int64"
      ]
     },
     "metadata": {},
     "output_type": "display_data"
    },
    {
     "name": "stdout",
     "output_type": "stream",
     "text": [
      "\n",
      "\n",
      "Number of duplicated values\n",
      "==================================\n"
     ]
    },
    {
     "data": {
      "text/plain": [
       "0"
      ]
     },
     "metadata": {},
     "output_type": "display_data"
    },
    {
     "name": "stdout",
     "output_type": "stream",
     "text": [
      "\n",
      "\n",
      "Number of unique values\n",
      "==================================\n"
     ]
    },
    {
     "data": {
      "text/plain": [
       "age                     18\n",
       "height(cm)              14\n",
       "weight(kg)              28\n",
       "waist(cm)              531\n",
       "eyesight(left)          20\n",
       "eyesight(right)         17\n",
       "hearing(left)            2\n",
       "hearing(right)           2\n",
       "systolic               112\n",
       "relaxation              75\n",
       "fasting blood sugar    229\n",
       "Cholesterol            227\n",
       "triglyceride           392\n",
       "HDL                    108\n",
       "LDL                    222\n",
       "hemoglobin             134\n",
       "Urine protein            6\n",
       "serum creatinine        28\n",
       "AST                    140\n",
       "ALT                    188\n",
       "Gtp                    362\n",
       "dental caries            2\n",
       "smoking                  2\n",
       "dtype: int64"
      ]
     },
     "metadata": {},
     "output_type": "display_data"
    },
    {
     "name": "stdout",
     "output_type": "stream",
     "text": [
      "\n",
      "\n",
      "Dataframe Shape\n",
      "===================================\n",
      "Rows: 159256, Columns: 23\n"
     ]
    }
   ],
   "source": [
    "analyze_data(train_data)"
   ]
  },
  {
   "cell_type": "markdown",
   "id": "02a68e06",
   "metadata": {},
   "source": [
    "#### Remove duplicates"
   ]
  },
  {
   "cell_type": "code",
   "execution_count": 9,
   "id": "131756ea",
   "metadata": {},
   "outputs": [
    {
     "name": "stdout",
     "output_type": "stream",
     "text": [
      "Number of duplicates found and removed: 0\n"
     ]
    }
   ],
   "source": [
    "def remove_duplicates(df):\n",
    "    \"\"\"\n",
    "    Remove duplicate rows from a DataFrame and print the number of duplicates found and removed.\n",
    "    \n",
    "    Parameters:\n",
    "    - df: pandas DataFrame\n",
    "\n",
    "    Returns:\n",
    "    - df_no_duplicates: DataFrame with duplicates removed\n",
    "    \"\"\"\n",
    "\n",
    "    # Identify duplicates\n",
    "    duplicates = df[df.duplicated()]\n",
    "\n",
    "    # Print number of duplicates found and removed\n",
    "    print(f\"Number of duplicates found and removed: {len(duplicates)}\")\n",
    "\n",
    "    # Remove duplicates\n",
    "    df_no_duplicates = df.drop_duplicates()\n",
    "\n",
    "    return df_no_duplicates\n",
    "\n",
    "train_df = remove_duplicates(train_data)"
   ]
  },
  {
   "cell_type": "markdown",
   "id": "c9376da9",
   "metadata": {},
   "source": [
    "#### Removing outliers"
   ]
  },
  {
   "cell_type": "code",
   "execution_count": 10,
   "id": "8dc8801d",
   "metadata": {},
   "outputs": [],
   "source": [
    "def count_outliers(data,cols):\n",
    "    for col in cols:\n",
    "        print(col)\n",
    "        print(\"=====================================\")\n",
    "        IQR = np.quantile(data[col],0.75) - np.quantile(data[col],0.25)\n",
    "        Low_bound = np.quantile(data[col],0.25) - 1.5*IQR\n",
    "        Upper_bound = np.quantile(data[col],0.75) + 1.5*IQR\n",
    "        #print(IQR)\n",
    "        #print(Low_bound)\n",
    "        #print(Upper_bound)\n",
    "        #median = np.median(data[col])\n",
    "        #for col in cols:\n",
    "        count = 0\n",
    "        for i in range(len(train_data)):\n",
    "            cond = data[col][i] < Low_bound or data[col][i] > Upper_bound\n",
    "            #data[col] = data[col].mask(cond, np.median(data[col]))\n",
    "            \n",
    "            if cond:\n",
    "                count += 1\n",
    "\n",
    "    \n",
    "                \n",
    "        \n",
    "        print(f'Number of outliers before replacing are {count}')\n",
    "        print(f'Percentage of outliers present in {col} before replacing are {round((count/len(data))*100,2)}%')\n",
    "        print(\"=======================================\")"
   ]
  },
  {
   "cell_type": "code",
   "execution_count": 11,
   "id": "83b6080b",
   "metadata": {},
   "outputs": [
    {
     "name": "stdout",
     "output_type": "stream",
     "text": [
      "age\n",
      "=====================================\n",
      "Number of outliers before replacing are 682\n",
      "Percentage of outliers present in age before replacing are 0.43%\n",
      "=======================================\n",
      "height(cm)\n",
      "=====================================\n",
      "Number of outliers before replacing are 463\n",
      "Percentage of outliers present in height(cm) before replacing are 0.29%\n",
      "=======================================\n",
      "weight(kg)\n",
      "=====================================\n",
      "Number of outliers before replacing are 2296\n",
      "Percentage of outliers present in weight(kg) before replacing are 1.44%\n",
      "=======================================\n",
      "waist(cm)\n",
      "=====================================\n",
      "Number of outliers before replacing are 858\n",
      "Percentage of outliers present in waist(cm) before replacing are 0.54%\n",
      "=======================================\n",
      "eyesight(left)\n",
      "=====================================\n",
      "Number of outliers before replacing are 2324\n",
      "Percentage of outliers present in eyesight(left) before replacing are 1.46%\n",
      "=======================================\n",
      "eyesight(right)\n",
      "=====================================\n",
      "Number of outliers before replacing are 2493\n",
      "Percentage of outliers present in eyesight(right) before replacing are 1.57%\n",
      "=======================================\n",
      "hearing(left)\n",
      "=====================================\n",
      "Number of outliers before replacing are 3818\n",
      "Percentage of outliers present in hearing(left) before replacing are 2.4%\n",
      "=======================================\n",
      "hearing(right)\n",
      "=====================================\n",
      "Number of outliers before replacing are 3730\n",
      "Percentage of outliers present in hearing(right) before replacing are 2.34%\n",
      "=======================================\n",
      "systolic\n",
      "=====================================\n",
      "Number of outliers before replacing are 1592\n",
      "Percentage of outliers present in systolic before replacing are 1.0%\n",
      "=======================================\n",
      "relaxation\n",
      "=====================================\n",
      "Number of outliers before replacing are 981\n",
      "Percentage of outliers present in relaxation before replacing are 0.62%\n",
      "=======================================\n",
      "fasting blood sugar\n",
      "=====================================\n",
      "Number of outliers before replacing are 8160\n",
      "Percentage of outliers present in fasting blood sugar before replacing are 5.12%\n",
      "=======================================\n",
      "Cholesterol\n",
      "=====================================\n",
      "Number of outliers before replacing are 430\n",
      "Percentage of outliers present in Cholesterol before replacing are 0.27%\n",
      "=======================================\n",
      "triglyceride\n",
      "=====================================\n",
      "Number of outliers before replacing are 3087\n",
      "Percentage of outliers present in triglyceride before replacing are 1.94%\n",
      "=======================================\n",
      "HDL\n",
      "=====================================\n",
      "Number of outliers before replacing are 1932\n",
      "Percentage of outliers present in HDL before replacing are 1.21%\n",
      "=======================================\n",
      "LDL\n",
      "=====================================\n",
      "Number of outliers before replacing are 495\n",
      "Percentage of outliers present in LDL before replacing are 0.31%\n",
      "=======================================\n",
      "hemoglobin\n",
      "=====================================\n",
      "Number of outliers before replacing are 1493\n",
      "Percentage of outliers present in hemoglobin before replacing are 0.94%\n",
      "=======================================\n",
      "Urine protein\n",
      "=====================================\n",
      "Number of outliers before replacing are 8394\n",
      "Percentage of outliers present in Urine protein before replacing are 5.27%\n",
      "=======================================\n",
      "serum creatinine\n",
      "=====================================\n",
      "Number of outliers before replacing are 5943\n",
      "Percentage of outliers present in serum creatinine before replacing are 3.73%\n",
      "=======================================\n",
      "AST\n",
      "=====================================\n",
      "Number of outliers before replacing are 6337\n",
      "Percentage of outliers present in AST before replacing are 3.98%\n",
      "=======================================\n",
      "ALT\n",
      "=====================================\n",
      "Number of outliers before replacing are 6746\n",
      "Percentage of outliers present in ALT before replacing are 4.24%\n",
      "=======================================\n",
      "Gtp\n",
      "=====================================\n",
      "Number of outliers before replacing are 8792\n",
      "Percentage of outliers present in Gtp before replacing are 5.52%\n",
      "=======================================\n",
      "dental caries\n",
      "=====================================\n",
      "Number of outliers before replacing are 31532\n",
      "Percentage of outliers present in dental caries before replacing are 19.8%\n",
      "=======================================\n",
      "smoking\n",
      "=====================================\n",
      "Number of outliers before replacing are 0\n",
      "Percentage of outliers present in smoking before replacing are 0.0%\n",
      "=======================================\n"
     ]
    }
   ],
   "source": [
    "count_outliers(train_data, train_data.columns)"
   ]
  },
  {
   "cell_type": "code",
   "execution_count": 12,
   "id": "7085ad2e",
   "metadata": {},
   "outputs": [],
   "source": [
    "def remove_outliers(data,cols):\n",
    "    for col in cols:\n",
    "        print(col)\n",
    "        IQR = np.quantile(data[col],0.75) - np.quantile(data[col],0.25)\n",
    "        #print(IQR)\n",
    "        Low_bound = np.quantile(data[col],0.25) - 1.5*IQR\n",
    "        #print(Low_bound)\n",
    "        Upper_bound = np.quantile(data[col],0.75) + 1.5*IQR\n",
    "        #print(Upper_bound)\n",
    "        median = np.median(data[col])\n",
    "        #print(median)\n",
    "        data[col] = np.where(data[col]>Upper_bound, median, data[col])\n",
    "        data[col] = np.where(data[col]<Low_bound, median, data[col])\n",
    "        \n",
    "        count = 0\n",
    "        for i in range(len(train_data)):\n",
    "            cond = data[col][i] < Low_bound or data[col][i] > Upper_bound\n",
    "            #data[col] = data[col].mask(cond, np.median(data[col]))\n",
    "            \n",
    "            if cond:\n",
    "                count += 1\n",
    "\n",
    "    \n",
    "                \n",
    "        \n",
    "        print(f'Number of outliers After replacing are {count}')\n",
    "        print(\"=====================================================\")"
   ]
  },
  {
   "cell_type": "code",
   "execution_count": 13,
   "id": "72520c55",
   "metadata": {},
   "outputs": [],
   "source": [
    "def draw_boxplots(data,cols):\n",
    "    for col in cols:\n",
    "        print(\"====================================================================\")\n",
    "        print(col)\n",
    "        data[col].plot(kind=\"box\",figsize=(10,7))\n",
    "        plt.show()\n",
    "        print(\"====================================================================\")\n",
    "    \n",
    "        "
   ]
  },
  {
   "cell_type": "code",
   "execution_count": 14,
   "id": "19867f33",
   "metadata": {},
   "outputs": [
    {
     "name": "stdout",
     "output_type": "stream",
     "text": [
      "====================================================================\n",
      "age\n"
     ]
    },
    {
     "data": {
      "image/png": "[encoded data removed]",
      "text/plain": [
       "<Figure size 720x504 with 1 Axes>"
      ]
     },
     "metadata": {
      "needs_background": "light"
     },
     "output_type": "display_data"
    },
    {
     "name": "stdout",
     "output_type": "stream",
     "text": [
      "====================================================================\n",
      "====================================================================\n",
      "height(cm)\n"
     ]
    },
    {
     "data": {
      "image/png": "[encoded data removed]",
      "text/plain": [
       "<Figure size 720x504 with 1 Axes>"
      ]
     },
     "metadata": {
      "needs_background": "light"
     },
     "output_type": "display_data"
    },
    {
     "name": "stdout",
     "output_type": "stream",
     "text": [
      "====================================================================\n",
      "====================================================================\n",
      "weight(kg)\n"
     ]
    },
    {
     "data": {
      "image/png": "[encoded data removed]",
      "text/plain": [
       "<Figure size 720x504 with 1 Axes>"
      ]
     },
     "metadata": {
      "needs_background": "light"
     },
     "output_type": "display_data"
    },
    {
     "name": "stdout",
     "output_type": "stream",
     "text": [
      "====================================================================\n",
      "====================================================================\n",
      "waist(cm)\n"
     ]
    },
    {
     "data": {
      "image/png": "[encoded data removed]",
      "text/plain": [
       "<Figure size 720x504 with 1 Axes>"
      ]
     },
     "metadata": {
      "needs_background": "light"
     },
     "output_type": "display_data"
    },
    {
     "name": "stdout",
     "output_type": "stream",
     "text": [
      "====================================================================\n",
      "====================================================================\n",
      "eyesight(left)\n"
     ]
    },
    {
     "data": {
      "image/png": "[encoded data removed]",
      "text/plain": [
       "<Figure size 720x504 with 1 Axes>"
      ]
     },
     "metadata": {
      "needs_background": "light"
     },
     "output_type": "display_data"
    },
    {
     "name": "stdout",
     "output_type": "stream",
     "text": [
      "====================================================================\n",
      "====================================================================\n",
      "eyesight(right)\n"
     ]
    },
    {
     "data": {
      "image/png": "[encoded data removed]",
      "text/plain": [
       "<Figure size 720x504 with 1 Axes>"
      ]
     },
     "metadata": {
      "needs_background": "light"
     },
     "output_type": "display_data"
    },
    {
     "name": "stdout",
     "output_type": "stream",
     "text": [
      "====================================================================\n",
      "====================================================================\n",
      "hearing(left)\n"
     ]
    },
    {
     "data": {
      "image/png": "[encoded data removed]",
      "text/plain": [
       "<Figure size 720x504 with 1 Axes>"
      ]
     },
     "metadata": {
      "needs_background": "light"
     },
     "output_type": "display_data"
    },
    {
     "name": "stdout",
     "output_type": "stream",
     "text": [
      "====================================================================\n",
      "====================================================================\n",
      "hearing(right)\n"
     ]
    },
    {
     "data": {
      "image/png": "[encoded data removed]",
      "text/plain": [
       "<Figure size 720x504 with 1 Axes>"
      ]
     },
     "metadata": {
      "needs_background": "light"
     },
     "output_type": "display_data"
    },
    {
     "name": "stdout",
     "output_type": "stream",
     "text": [
      "====================================================================\n",
      "====================================================================\n",
      "systolic\n"
     ]
    },
    {
     "data": {
      "image/png": "[encoded data removed]",
      "text/plain": [
       "<Figure size 720x504 with 1 Axes>"
      ]
     },
     "metadata": {
      "needs_background": "light"
     },
     "output_type": "display_data"
    },
    {
     "name": "stdout",
     "output_type": "stream",
     "text": [
      "====================================================================\n",
      "====================================================================\n",
      "relaxation\n"
     ]
    },
    {
     "data": {
      "image/png": "[encoded data removed]",
      "text/plain": [
       "<Figure size 720x504 with 1 Axes>"
      ]
     },
     "metadata": {
      "needs_background": "light"
     },
     "output_type": "display_data"
    },
    {
     "name": "stdout",
     "output_type": "stream",
     "text": [
      "====================================================================\n",
      "====================================================================\n",
      "fasting blood sugar\n"
     ]
    },
    {
     "data": {
      "image/png": "[encoded data removed]",
      "text/plain": [
       "<Figure size 720x504 with 1 Axes>"
      ]
     },
     "metadata": {
      "needs_background": "light"
     },
     "output_type": "display_data"
    },
    {
     "name": "stdout",
     "output_type": "stream",
     "text": [
      "====================================================================\n",
      "====================================================================\n",
      "Cholesterol\n"
     ]
    },
    {
     "data": {
      "image/png": "[encoded data removed]",
      "text/plain": [
       "<Figure size 720x504 with 1 Axes>"
      ]
     },
     "metadata": {
      "needs_background": "light"
     },
     "output_type": "display_data"
    },
    {
     "name": "stdout",
     "output_type": "stream",
     "text": [
      "====================================================================\n",
      "====================================================================\n",
      "triglyceride\n"
     ]
    },
    {
     "data": {
      "image/png": "[encoded data removed]",
      "text/plain": [
       "<Figure size 720x504 with 1 Axes>"
      ]
     },
     "metadata": {
      "needs_background": "light"
     },
     "output_type": "display_data"
    },
    {
     "name": "stdout",
     "output_type": "stream",
     "text": [
      "====================================================================\n",
      "====================================================================\n",
      "HDL\n"
     ]
    },
    {
     "data": {
      "image/png": "[encoded data removed]",
      "text/plain": [
       "<Figure size 720x504 with 1 Axes>"
      ]
     },
     "metadata": {
      "needs_background": "light"
     },
     "output_type": "display_data"
    },
    {
     "name": "stdout",
     "output_type": "stream",
     "text": [
      "====================================================================\n",
      "====================================================================\n",
      "LDL\n"
     ]
    },
    {
     "data": {
      "image/png": "[encoded data removed]",
      "text/plain": [
       "<Figure size 720x504 with 1 Axes>"
      ]
     },
     "metadata": {
      "needs_background": "light"
     },
     "output_type": "display_data"
    },
    {
     "name": "stdout",
     "output_type": "stream",
     "text": [
      "====================================================================\n",
      "====================================================================\n",
      "hemoglobin\n"
     ]
    },
    {
     "data": {
      "image/png": "[encoded data removed]",
      "text/plain": [
       "<Figure size 720x504 with 1 Axes>"
      ]
     },
     "metadata": {
      "needs_background": "light"
     },
     "output_type": "display_data"
    },
    {
     "name": "stdout",
     "output_type": "stream",
     "text": [
      "====================================================================\n",
      "====================================================================\n",
      "Urine protein\n"
     ]
    },
    {
     "data": {
      "image/png": "[encoded data removed]",
      "text/plain": [
       "<Figure size 720x504 with 1 Axes>"
      ]
     },
     "metadata": {
      "needs_background": "light"
     },
     "output_type": "display_data"
    },
    {
     "name": "stdout",
     "output_type": "stream",
     "text": [
      "====================================================================\n",
      "====================================================================\n",
      "serum creatinine\n"
     ]
    },
    {
     "data": {
      "image/png": "[encoded data removed]",
      "text/plain": [
       "<Figure size 720x504 with 1 Axes>"
      ]
     },
     "metadata": {
      "needs_background": "light"
     },
     "output_type": "display_data"
    },
    {
     "name": "stdout",
     "output_type": "stream",
     "text": [
      "====================================================================\n",
      "====================================================================\n",
      "AST\n"
     ]
    },
    {
     "data": {
      "image/png": "[encoded data removed]",
      "text/plain": [
       "<Figure size 720x504 with 1 Axes>"
      ]
     },
     "metadata": {
      "needs_background": "light"
     },
     "output_type": "display_data"
    },
    {
     "name": "stdout",
     "output_type": "stream",
     "text": [
      "====================================================================\n",
      "====================================================================\n",
      "ALT\n"
     ]
    },
    {
     "data": {
      "image/png": "[encoded data removed]",
      "text/plain": [
       "<Figure size 720x504 with 1 Axes>"
      ]
     },
     "metadata": {
      "needs_background": "light"
     },
     "output_type": "display_data"
    },
    {
     "name": "stdout",
     "output_type": "stream",
     "text": [
      "====================================================================\n",
      "====================================================================\n",
      "Gtp\n"
     ]
    },
    {
     "data": {
      "image/png": "[encoded data removed]",
      "text/plain": [
       "<Figure size 720x504 with 1 Axes>"
      ]
     },
     "metadata": {
      "needs_background": "light"
     },
     "output_type": "display_data"
    },
    {
     "name": "stdout",
     "output_type": "stream",
     "text": [
      "====================================================================\n",
      "====================================================================\n",
      "dental caries\n"
     ]
    },
    {
     "data": {
      "image/png": "[encoded data removed]",
      "text/plain": [
       "<Figure size 720x504 with 1 Axes>"
      ]
     },
     "metadata": {
      "needs_background": "light"
     },
     "output_type": "display_data"
    },
    {
     "name": "stdout",
     "output_type": "stream",
     "text": [
      "====================================================================\n",
      "====================================================================\n",
      "smoking\n"
     ]
    },
    {
     "data": {
      "image/png": "[encoded data removed]",
      "text/plain": [
       "<Figure size 720x504 with 1 Axes>"
      ]
     },
     "metadata": {
      "needs_background": "light"
     },
     "output_type": "display_data"
    },
    {
     "name": "stdout",
     "output_type": "stream",
     "text": [
      "====================================================================\n"
     ]
    }
   ],
   "source": [
    "## before removing\n",
    "draw_boxplots(train_data, train_data.columns)"
   ]
  },
  {
   "cell_type": "code",
   "execution_count": 15,
   "id": "e8b3f7f4",
   "metadata": {
    "scrolled": true
   },
   "outputs": [
    {
     "name": "stdout",
     "output_type": "stream",
     "text": [
      "age\n",
      "Number of outliers After replacing are 0\n",
      "=====================================================\n",
      "height(cm)\n",
      "Number of outliers After replacing are 0\n",
      "=====================================================\n",
      "weight(kg)\n",
      "Number of outliers After replacing are 0\n",
      "=====================================================\n",
      "waist(cm)\n",
      "Number of outliers After replacing are 0\n",
      "=====================================================\n",
      "eyesight(left)\n",
      "Number of outliers After replacing are 0\n",
      "=====================================================\n",
      "eyesight(right)\n",
      "Number of outliers After replacing are 0\n",
      "=====================================================\n",
      "hearing(left)\n",
      "Number of outliers After replacing are 0\n",
      "=====================================================\n",
      "hearing(right)\n",
      "Number of outliers After replacing are 0\n",
      "=====================================================\n",
      "systolic\n",
      "Number of outliers After replacing are 0\n",
      "=====================================================\n",
      "relaxation\n",
      "Number of outliers After replacing are 0\n",
      "=====================================================\n",
      "fasting blood sugar\n",
      "Number of outliers After replacing are 0\n",
      "=====================================================\n",
      "Cholesterol\n",
      "Number of outliers After replacing are 0\n",
      "=====================================================\n",
      "triglyceride\n",
      "Number of outliers After replacing are 0\n",
      "=====================================================\n",
      "HDL\n",
      "Number of outliers After replacing are 0\n",
      "=====================================================\n",
      "LDL\n",
      "Number of outliers After replacing are 0\n",
      "=====================================================\n",
      "hemoglobin\n",
      "Number of outliers After replacing are 0\n",
      "=====================================================\n",
      "Urine protein\n",
      "Number of outliers After replacing are 0\n",
      "=====================================================\n",
      "serum creatinine\n",
      "Number of outliers After replacing are 0\n",
      "=====================================================\n",
      "AST\n",
      "Number of outliers After replacing are 0\n",
      "=====================================================\n",
      "ALT\n",
      "Number of outliers After replacing are 0\n",
      "=====================================================\n",
      "Gtp\n",
      "Number of outliers After replacing are 0\n",
      "=====================================================\n",
      "dental caries\n",
      "Number of outliers After replacing are 0\n",
      "=====================================================\n",
      "smoking\n",
      "Number of outliers After replacing are 0\n",
      "=====================================================\n"
     ]
    }
   ],
   "source": [
    "remove_outliers(train_data,train_data.columns)"
   ]
  },
  {
   "cell_type": "code",
   "execution_count": 16,
   "id": "58458617",
   "metadata": {},
   "outputs": [
    {
     "name": "stdout",
     "output_type": "stream",
     "text": [
      "====================================================================\n",
      "age\n"
     ]
    },
    {
     "data": {
      "image/png": "[encoded data removed]",
      "text/plain": [
       "<Figure size 720x504 with 1 Axes>"
      ]
     },
     "metadata": {
      "needs_background": "light"
     },
     "output_type": "display_data"
    },
    {
     "name": "stdout",
     "output_type": "stream",
     "text": [
      "====================================================================\n",
      "====================================================================\n",
      "height(cm)\n"
     ]
    },
    {
     "data": {
      "image/png": "[encoded data removed]",
      "text/plain": [
       "<Figure size 720x504 with 1 Axes>"
      ]
     },
     "metadata": {
      "needs_background": "light"
     },
     "output_type": "display_data"
    },
    {
     "name": "stdout",
     "output_type": "stream",
     "text": [
      "====================================================================\n",
      "====================================================================\n",
      "weight(kg)\n"
     ]
    },
    {
     "data": {
      "image/png": "[encoded data removed]",
      "text/plain": [
       "<Figure size 720x504 with 1 Axes>"
      ]
     },
     "metadata": {
      "needs_background": "light"
     },
     "output_type": "display_data"
    },
    {
     "name": "stdout",
     "output_type": "stream",
     "text": [
      "====================================================================\n",
      "====================================================================\n",
      "waist(cm)\n"
     ]
    },
    {
     "data": {
      "image/png": "[encoded data removed]",
      "text/plain": [
       "<Figure size 720x504 with 1 Axes>"
      ]
     },
     "metadata": {
      "needs_background": "light"
     },
     "output_type": "display_data"
    },
    {
     "name": "stdout",
     "output_type": "stream",
     "text": [
      "====================================================================\n",
      "====================================================================\n",
      "eyesight(left)\n"
     ]
    },
    {
     "data": {
      "image/png": "[encoded data removed]",
      "text/plain": [
       "<Figure size 720x504 with 1 Axes>"
      ]
     },
     "metadata": {
      "needs_background": "light"
     },
     "output_type": "display_data"
    },
    {
     "name": "stdout",
     "output_type": "stream",
     "text": [
      "====================================================================\n",
      "====================================================================\n",
      "eyesight(right)\n"
     ]
    },
    {
     "data": {
      "image/png": "[encoded data removed]",
      "text/plain": [
       "<Figure size 720x504 with 1 Axes>"
      ]
     },
     "metadata": {
      "needs_background": "light"
     },
     "output_type": "display_data"
    },
    {
     "name": "stdout",
     "output_type": "stream",
     "text": [
      "====================================================================\n",
      "====================================================================\n",
      "hearing(left)\n"
     ]
    },
    {
     "data": {
      "image/png": "[encoded data removed]",
      "text/plain": [
       "<Figure size 720x504 with 1 Axes>"
      ]
     },
     "metadata": {
      "needs_background": "light"
     },
     "output_type": "display_data"
    },
    {
     "name": "stdout",
     "output_type": "stream",
     "text": [
      "====================================================================\n",
      "====================================================================\n",
      "hearing(right)\n"
     ]
    },
    {
     "data": {
      "image/png": "[encoded data removed]",
      "text/plain": [
       "<Figure size 720x504 with 1 Axes>"
      ]
     },
     "metadata": {
      "needs_background": "light"
     },
     "output_type": "display_data"
    },
    {
     "name": "stdout",
     "output_type": "stream",
     "text": [
      "====================================================================\n",
      "====================================================================\n",
      "systolic\n"
     ]
    },
    {
     "data": {
      "image/png": "[encoded data removed]",
      "text/plain": [
       "<Figure size 720x504 with 1 Axes>"
      ]
     },
     "metadata": {
      "needs_background": "light"
     },
     "output_type": "display_data"
    },
    {
     "name": "stdout",
     "output_type": "stream",
     "text": [
      "====================================================================\n",
      "====================================================================\n",
      "relaxation\n"
     ]
    },
    {
     "data": {
      "image/png": "[encoded data removed]",
      "text/plain": [
       "<Figure size 720x504 with 1 Axes>"
      ]
     },
     "metadata": {
      "needs_background": "light"
     },
     "output_type": "display_data"
    },
    {
     "name": "stdout",
     "output_type": "stream",
     "text": [
      "====================================================================\n",
      "====================================================================\n",
      "fasting blood sugar\n"
     ]
    },
    {
     "data": {
      "image/png": "[encoded data removed]",
      "text/plain": [
       "<Figure size 720x504 with 1 Axes>"
      ]
     },
     "metadata": {
      "needs_background": "light"
     },
     "output_type": "display_data"
    },
    {
     "name": "stdout",
     "output_type": "stream",
     "text": [
      "====================================================================\n",
      "====================================================================\n",
      "Cholesterol\n"
     ]
    },
    {
     "data": {
      "image/png": "[encoded data removed]",
      "text/plain": [
       "<Figure size 720x504 with 1 Axes>"
      ]
     },
     "metadata": {
      "needs_background": "light"
     },
     "output_type": "display_data"
    },
    {
     "name": "stdout",
     "output_type": "stream",
     "text": [
      "====================================================================\n",
      "====================================================================\n",
      "triglyceride\n"
     ]
    },
    {
     "data": {
      "image/png": "[encoded data removed]",
      "text/plain": [
       "<Figure size 720x504 with 1 Axes>"
      ]
     },
     "metadata": {
      "needs_background": "light"
     },
     "output_type": "display_data"
    },
    {
     "name": "stdout",
     "output_type": "stream",
     "text": [
      "====================================================================\n",
      "====================================================================\n",
      "HDL\n"
     ]
    },
    {
     "data": {
      "image/png": "[encoded data removed]",
      "text/plain": [
       "<Figure size 720x504 with 1 Axes>"
      ]
     },
     "metadata": {
      "needs_background": "light"
     },
     "output_type": "display_data"
    },
    {
     "name": "stdout",
     "output_type": "stream",
     "text": [
      "====================================================================\n",
      "====================================================================\n",
      "LDL\n"
     ]
    },
    {
     "data": {
      "image/png": "[encoded data removed]",
      "text/plain": [
       "<Figure size 720x504 with 1 Axes>"
      ]
     },
     "metadata": {
      "needs_background": "light"
     },
     "output_type": "display_data"
    },
    {
     "name": "stdout",
     "output_type": "stream",
     "text": [
      "====================================================================\n",
      "====================================================================\n",
      "hemoglobin\n"
     ]
    },
    {
     "data": {
      "image/png": "[encoded data removed]",
      "text/plain": [
       "<Figure size 720x504 with 1 Axes>"
      ]
     },
     "metadata": {
      "needs_background": "light"
     },
     "output_type": "display_data"
    },
    {
     "name": "stdout",
     "output_type": "stream",
     "text": [
      "====================================================================\n",
      "====================================================================\n",
      "Urine protein\n"
     ]
    },
    {
     "data": {
      "image/png": "[encoded data removed]",
      "text/plain": [
       "<Figure size 720x504 with 1 Axes>"
      ]
     },
     "metadata": {
      "needs_background": "light"
     },
     "output_type": "display_data"
    },
    {
     "name": "stdout",
     "output_type": "stream",
     "text": [
      "====================================================================\n",
      "====================================================================\n",
      "serum creatinine\n"
     ]
    },
    {
     "data": {
      "image/png": "[encoded data removed]",
      "text/plain": [
       "<Figure size 720x504 with 1 Axes>"
      ]
     },
     "metadata": {
      "needs_background": "light"
     },
     "output_type": "display_data"
    },
    {
     "name": "stdout",
     "output_type": "stream",
     "text": [
      "====================================================================\n",
      "====================================================================\n",
      "AST\n"
     ]
    },
    {
     "data": {
      "image/png": "[encoded data removed]",
      "text/plain": [
       "<Figure size 720x504 with 1 Axes>"
      ]
     },
     "metadata": {
      "needs_background": "light"
     },
     "output_type": "display_data"
    },
    {
     "name": "stdout",
     "output_type": "stream",
     "text": [
      "====================================================================\n",
      "====================================================================\n",
      "ALT\n"
     ]
    },
    {
     "data": {
      "image/png": "[encoded data removed]",
      "text/plain": [
       "<Figure size 720x504 with 1 Axes>"
      ]
     },
     "metadata": {
      "needs_background": "light"
     },
     "output_type": "display_data"
    },
    {
     "name": "stdout",
     "output_type": "stream",
     "text": [
      "====================================================================\n",
      "====================================================================\n",
      "Gtp\n"
     ]
    },
    {
     "data": {
      "image/png": "[encoded data removed]",
      "text/plain": [
       "<Figure size 720x504 with 1 Axes>"
      ]
     },
     "metadata": {
      "needs_background": "light"
     },
     "output_type": "display_data"
    },
    {
     "name": "stdout",
     "output_type": "stream",
     "text": [
      "====================================================================\n",
      "====================================================================\n",
      "dental caries\n"
     ]
    },
    {
     "data": {
      "image/png": "[encoded data removed]",
      "text/plain": [
       "<Figure size 720x504 with 1 Axes>"
      ]
     },
     "metadata": {
      "needs_background": "light"
     },
     "output_type": "display_data"
    },
    {
     "name": "stdout",
     "output_type": "stream",
     "text": [
      "====================================================================\n",
      "====================================================================\n",
      "smoking\n"
     ]
    },
    {
     "data": {
      "image/png": "[encoded data removed]",
      "text/plain": [
       "<Figure size 720x504 with 1 Axes>"
      ]
     },
     "metadata": {
      "needs_background": "light"
     },
     "output_type": "display_data"
    },
    {
     "name": "stdout",
     "output_type": "stream",
     "text": [
      "====================================================================\n"
     ]
    }
   ],
   "source": [
    "#after removing\n",
    "draw_boxplots(train_data, train_data.columns)"
   ]
  },
  {
   "cell_type": "markdown",
   "id": "aee58be8",
   "metadata": {},
   "source": [
    "#### Feature Engineering"
   ]
  },
  {
   "cell_type": "code",
   "execution_count": 17,
   "id": "53ff5778",
   "metadata": {},
   "outputs": [],
   "source": [
    "def create_feature(data):\n",
    "    \n",
    "    # BMI = (weight/height**2)\n",
    "    data['BMI'] = data['weight(kg)']/((data['height(cm)']/100)**2)\n",
    "    \n",
    "    # HW = height/waist\n",
    "    data['HW_Ratio'] = data['height(cm)']/data['waist(cm)']\n",
    "    \n",
    "    #HA = height/age\n",
    "    data['HA_Ratio'] = data['height(cm)']/data['age']\n",
    "    \n",
    "create_feature(train_data)\n",
    "create_feature(test_data)"
   ]
  },
  {
   "cell_type": "markdown",
   "id": "5d65f69d",
   "metadata": {},
   "source": [
    "#### Feature standardization"
   ]
  },
  {
   "cell_type": "code",
   "execution_count": 18,
   "id": "ec353ea2",
   "metadata": {},
   "outputs": [],
   "source": [
    "def standardize_features(df, features, method='zscore'):\n",
    "    # Making a copy of the dataframe to avoid changing the original dataframe\n",
    "    df_copy = df.copy()\n",
    "\n",
    "    # Selecting the features to be standardized\n",
    "    data_to_scale = df_copy[features]\n",
    "\n",
    "    # Choosing the standardization method\n",
    "    if method == 'zscore':\n",
    "        scaler = StandardScaler()\n",
    "    elif method == 'minmax':\n",
    "        scaler = MinMaxScaler()\n",
    "    elif method == 'robust':\n",
    "        scaler = RobustScaler()\n",
    "    else:\n",
    "        raise ValueError(\"Invalid method. Choose from 'zscore', 'minmax', or 'robust'.\")\n",
    "    # Applying the standardization\n",
    "    standardized_data = scaler.fit_transform(data_to_scale)\n",
    "\n",
    "    # Replacing the original feature values with the standardized values\n",
    "    df_copy[features] = standardized_data\n",
    "\n",
    "    return df_copy\n",
    "\n"
   ]
  },
  {
   "cell_type": "code",
   "execution_count": 19,
   "id": "86c18258",
   "metadata": {},
   "outputs": [],
   "source": [
    "model_features = [col for col in train_data.columns if col not in ['id','smoking']]"
   ]
  },
  {
   "cell_type": "code",
   "execution_count": 20,
   "id": "14e8da64",
   "metadata": {},
   "outputs": [],
   "source": [
    "train_data = standardize_features(train_data, model_features, method = 'robust')\n",
    "test_data = standardize_features(test_data, model_features, method = 'robust')"
   ]
  },
  {
   "cell_type": "code",
   "execution_count": 23,
   "id": "04cd38f7",
   "metadata": {},
   "outputs": [],
   "source": [
    "#### Final data"
   ]
  },
  {
   "cell_type": "code",
   "execution_count": 21,
   "id": "a2e50bd1",
   "metadata": {},
   "outputs": [
    {
     "data": {
      "text/html": [
       "<div>\n",
       "<style scoped>\n",
       "    .dataframe tbody tr th:only-of-type {\n",
       "        vertical-align: middle;\n",
       "    }\n",
       "\n",
       "    .dataframe tbody tr th {\n",
       "        vertical-align: top;\n",
       "    }\n",
       "\n",
       "    .dataframe thead th {\n",
       "        text-align: right;\n",
       "    }\n",
       "</style>\n",
       "<table border=\"1\" class=\"dataframe\">\n",
       "  <thead>\n",
       "    <tr style=\"text-align: right;\">\n",
       "      <th></th>\n",
       "      <th>age</th>\n",
       "      <th>height(cm)</th>\n",
       "      <th>weight(kg)</th>\n",
       "      <th>waist(cm)</th>\n",
       "      <th>eyesight(left)</th>\n",
       "      <th>eyesight(right)</th>\n",
       "      <th>hearing(left)</th>\n",
       "      <th>hearing(right)</th>\n",
       "      <th>systolic</th>\n",
       "      <th>relaxation</th>\n",
       "      <th>fasting blood sugar</th>\n",
       "      <th>Cholesterol</th>\n",
       "      <th>triglyceride</th>\n",
       "      <th>HDL</th>\n",
       "      <th>LDL</th>\n",
       "      <th>hemoglobin</th>\n",
       "      <th>Urine protein</th>\n",
       "      <th>serum creatinine</th>\n",
       "      <th>AST</th>\n",
       "      <th>ALT</th>\n",
       "      <th>Gtp</th>\n",
       "      <th>dental caries</th>\n",
       "      <th>smoking</th>\n",
       "      <th>BMI</th>\n",
       "      <th>HW_Ratio</th>\n",
       "      <th>HA_Ratio</th>\n",
       "    </tr>\n",
       "  </thead>\n",
       "  <tbody>\n",
       "    <tr>\n",
       "      <th>0</th>\n",
       "      <td>1.000</td>\n",
       "      <td>0.000</td>\n",
       "      <td>-0.333</td>\n",
       "      <td>-0.167</td>\n",
       "      <td>-1.250</td>\n",
       "      <td>-1.000</td>\n",
       "      <td>0.000</td>\n",
       "      <td>0.000</td>\n",
       "      <td>0.875</td>\n",
       "      <td>0.750</td>\n",
       "      <td>-0.167</td>\n",
       "      <td>-0.571</td>\n",
       "      <td>0.000</td>\n",
       "      <td>-0.737</td>\n",
       "      <td>-1.026</td>\n",
       "      <td>0.789</td>\n",
       "      <td>0.000</td>\n",
       "      <td>0.500</td>\n",
       "      <td>-0.250</td>\n",
       "      <td>0.214</td>\n",
       "      <td>0.000</td>\n",
       "      <td>0.000</td>\n",
       "      <td>1.000</td>\n",
       "      <td>-0.535</td>\n",
       "      <td>0.143</td>\n",
       "      <td>-0.621</td>\n",
       "    </tr>\n",
       "    <tr>\n",
       "      <th>1</th>\n",
       "      <td>2.000</td>\n",
       "      <td>0.000</td>\n",
       "      <td>0.000</td>\n",
       "      <td>0.500</td>\n",
       "      <td>-1.000</td>\n",
       "      <td>-0.750</td>\n",
       "      <td>0.000</td>\n",
       "      <td>0.000</td>\n",
       "      <td>1.562</td>\n",
       "      <td>0.417</td>\n",
       "      <td>0.000</td>\n",
       "      <td>-0.048</td>\n",
       "      <td>-0.714</td>\n",
       "      <td>0.158</td>\n",
       "      <td>0.316</td>\n",
       "      <td>0.632</td>\n",
       "      <td>0.000</td>\n",
       "      <td>1.000</td>\n",
       "      <td>0.375</td>\n",
       "      <td>0.071</td>\n",
       "      <td>0.476</td>\n",
       "      <td>0.000</td>\n",
       "      <td>0.000</td>\n",
       "      <td>-0.085</td>\n",
       "      <td>-0.564</td>\n",
       "      <td>-1.077</td>\n",
       "    </tr>\n",
       "    <tr>\n",
       "      <th>2</th>\n",
       "      <td>-1.333</td>\n",
       "      <td>0.500</td>\n",
       "      <td>0.667</td>\n",
       "      <td>-0.167</td>\n",
       "      <td>-1.500</td>\n",
       "      <td>-1.250</td>\n",
       "      <td>0.000</td>\n",
       "      <td>0.000</td>\n",
       "      <td>-0.188</td>\n",
       "      <td>-0.250</td>\n",
       "      <td>-1.417</td>\n",
       "      <td>-0.429</td>\n",
       "      <td>0.976</td>\n",
       "      <td>-0.474</td>\n",
       "      <td>-0.553</td>\n",
       "      <td>1.263</td>\n",
       "      <td>0.000</td>\n",
       "      <td>-0.500</td>\n",
       "      <td>0.375</td>\n",
       "      <td>0.643</td>\n",
       "      <td>1.238</td>\n",
       "      <td>0.000</td>\n",
       "      <td>1.000</td>\n",
       "      <td>0.424</td>\n",
       "      <td>0.381</td>\n",
       "      <td>3.282</td>\n",
       "    </tr>\n",
       "    <tr>\n",
       "      <th>3</th>\n",
       "      <td>-0.333</td>\n",
       "      <td>1.500</td>\n",
       "      <td>2.000</td>\n",
       "      <td>1.833</td>\n",
       "      <td>1.250</td>\n",
       "      <td>0.500</td>\n",
       "      <td>0.000</td>\n",
       "      <td>0.000</td>\n",
       "      <td>0.625</td>\n",
       "      <td>0.833</td>\n",
       "      <td>-0.417</td>\n",
       "      <td>-0.381</td>\n",
       "      <td>1.048</td>\n",
       "      <td>-0.842</td>\n",
       "      <td>-0.316</td>\n",
       "      <td>0.474</td>\n",
       "      <td>0.000</td>\n",
       "      <td>0.500</td>\n",
       "      <td>-0.500</td>\n",
       "      <td>0.357</td>\n",
       "      <td>0.143</td>\n",
       "      <td>0.000</td>\n",
       "      <td>0.000</td>\n",
       "      <td>1.249</td>\n",
       "      <td>-1.103</td>\n",
       "      <td>0.900</td>\n",
       "    </tr>\n",
       "    <tr>\n",
       "      <th>4</th>\n",
       "      <td>-0.667</td>\n",
       "      <td>0.000</td>\n",
       "      <td>-0.333</td>\n",
       "      <td>-0.208</td>\n",
       "      <td>1.250</td>\n",
       "      <td>0.000</td>\n",
       "      <td>0.000</td>\n",
       "      <td>0.000</td>\n",
       "      <td>0.000</td>\n",
       "      <td>-0.167</td>\n",
       "      <td>-0.417</td>\n",
       "      <td>-0.976</td>\n",
       "      <td>-0.333</td>\n",
       "      <td>-0.526</td>\n",
       "      <td>-0.553</td>\n",
       "      <td>0.211</td>\n",
       "      <td>0.000</td>\n",
       "      <td>-0.500</td>\n",
       "      <td>-0.625</td>\n",
       "      <td>-0.643</td>\n",
       "      <td>-0.476</td>\n",
       "      <td>0.000</td>\n",
       "      <td>1.000</td>\n",
       "      <td>-0.535</td>\n",
       "      <td>0.192</td>\n",
       "      <td>1.153</td>\n",
       "    </tr>\n",
       "  </tbody>\n",
       "</table>\n",
       "</div>"
      ],
      "text/plain": [
       "     age  height(cm)  weight(kg)  waist(cm)  eyesight(left)  eyesight(right)  \\\n",
       "0  1.000       0.000      -0.333     -0.167          -1.250           -1.000   \n",
       "1  2.000       0.000       0.000      0.500          -1.000           -0.750   \n",
       "2 -1.333       0.500       0.667     -0.167          -1.500           -1.250   \n",
       "3 -0.333       1.500       2.000      1.833           1.250            0.500   \n",
       "4 -0.667       0.000      -0.333     -0.208           1.250            0.000   \n",
       "\n",
       "   hearing(left)  hearing(right)  systolic  relaxation  fasting blood sugar  \\\n",
       "0          0.000           0.000     0.875       0.750               -0.167   \n",
       "1          0.000           0.000     1.562       0.417                0.000   \n",
       "2          0.000           0.000    -0.188      -0.250               -1.417   \n",
       "3          0.000           0.000     0.625       0.833               -0.417   \n",
       "4          0.000           0.000     0.000      -0.167               -0.417   \n",
       "\n",
       "   Cholesterol  triglyceride    HDL    LDL  hemoglobin  Urine protein  \\\n",
       "0       -0.571         0.000 -0.737 -1.026       0.789          0.000   \n",
       "1       -0.048        -0.714  0.158  0.316       0.632          0.000   \n",
       "2       -0.429         0.976 -0.474 -0.553       1.263          0.000   \n",
       "3       -0.381         1.048 -0.842 -0.316       0.474          0.000   \n",
       "4       -0.976        -0.333 -0.526 -0.553       0.211          0.000   \n",
       "\n",
       "   serum creatinine    AST    ALT    Gtp  dental caries  smoking    BMI  \\\n",
       "0             0.500 -0.250  0.214  0.000          0.000    1.000 -0.535   \n",
       "1             1.000  0.375  0.071  0.476          0.000    0.000 -0.085   \n",
       "2            -0.500  0.375  0.643  1.238          0.000    1.000  0.424   \n",
       "3             0.500 -0.500  0.357  0.143          0.000    0.000  1.249   \n",
       "4            -0.500 -0.625 -0.643 -0.476          0.000    1.000 -0.535   \n",
       "\n",
       "   HW_Ratio  HA_Ratio  \n",
       "0     0.143    -0.621  \n",
       "1    -0.564    -1.077  \n",
       "2     0.381     3.282  \n",
       "3    -1.103     0.900  \n",
       "4     0.192     1.153  "
      ]
     },
     "execution_count": 21,
     "metadata": {},
     "output_type": "execute_result"
    }
   ],
   "source": [
    "train_data.head()"
   ]
  },
  {
   "cell_type": "code",
   "execution_count": 22,
   "id": "fdc82e2e",
   "metadata": {
    "scrolled": true
   },
   "outputs": [
    {
     "data": {
      "text/html": [
       "<div>\n",
       "<style scoped>\n",
       "    .dataframe tbody tr th:only-of-type {\n",
       "        vertical-align: middle;\n",
       "    }\n",
       "\n",
       "    .dataframe tbody tr th {\n",
       "        vertical-align: top;\n",
       "    }\n",
       "\n",
       "    .dataframe thead th {\n",
       "        text-align: right;\n",
       "    }\n",
       "</style>\n",
       "<table border=\"1\" class=\"dataframe\">\n",
       "  <thead>\n",
       "    <tr style=\"text-align: right;\">\n",
       "      <th></th>\n",
       "      <th>age</th>\n",
       "      <th>height(cm)</th>\n",
       "      <th>weight(kg)</th>\n",
       "      <th>waist(cm)</th>\n",
       "      <th>eyesight(left)</th>\n",
       "      <th>eyesight(right)</th>\n",
       "      <th>hearing(left)</th>\n",
       "      <th>hearing(right)</th>\n",
       "      <th>systolic</th>\n",
       "      <th>relaxation</th>\n",
       "      <th>fasting blood sugar</th>\n",
       "      <th>Cholesterol</th>\n",
       "      <th>triglyceride</th>\n",
       "      <th>HDL</th>\n",
       "      <th>LDL</th>\n",
       "      <th>hemoglobin</th>\n",
       "      <th>Urine protein</th>\n",
       "      <th>serum creatinine</th>\n",
       "      <th>AST</th>\n",
       "      <th>ALT</th>\n",
       "      <th>Gtp</th>\n",
       "      <th>dental caries</th>\n",
       "      <th>BMI</th>\n",
       "      <th>HW_Ratio</th>\n",
       "      <th>HA_Ratio</th>\n",
       "    </tr>\n",
       "  </thead>\n",
       "  <tbody>\n",
       "    <tr>\n",
       "      <th>0</th>\n",
       "      <td>0.000</td>\n",
       "      <td>0.000</td>\n",
       "      <td>0.333</td>\n",
       "      <td>0.083</td>\n",
       "      <td>0.500</td>\n",
       "      <td>0.500</td>\n",
       "      <td>0.000</td>\n",
       "      <td>0.000</td>\n",
       "      <td>0.562</td>\n",
       "      <td>0.917</td>\n",
       "      <td>0.846</td>\n",
       "      <td>0.095</td>\n",
       "      <td>0.828</td>\n",
       "      <td>-0.263</td>\n",
       "      <td>0.026</td>\n",
       "      <td>-0.400</td>\n",
       "      <td>0.000</td>\n",
       "      <td>0.000</td>\n",
       "      <td>-0.556</td>\n",
       "      <td>0.176</td>\n",
       "      <td>0.192</td>\n",
       "      <td>0.000</td>\n",
       "      <td>0.379</td>\n",
       "      <td>-0.138</td>\n",
       "      <td>0.167</td>\n",
       "    </tr>\n",
       "    <tr>\n",
       "      <th>1</th>\n",
       "      <td>2.667</td>\n",
       "      <td>-0.500</td>\n",
       "      <td>-0.333</td>\n",
       "      <td>0.833</td>\n",
       "      <td>0.000</td>\n",
       "      <td>0.000</td>\n",
       "      <td>1.000</td>\n",
       "      <td>1.000</td>\n",
       "      <td>1.438</td>\n",
       "      <td>-0.500</td>\n",
       "      <td>-0.231</td>\n",
       "      <td>-0.571</td>\n",
       "      <td>0.506</td>\n",
       "      <td>-1.000</td>\n",
       "      <td>-0.263</td>\n",
       "      <td>-1.000</td>\n",
       "      <td>0.000</td>\n",
       "      <td>1.000</td>\n",
       "      <td>-0.444</td>\n",
       "      <td>-0.588</td>\n",
       "      <td>-0.115</td>\n",
       "      <td>0.000</td>\n",
       "      <td>-0.199</td>\n",
       "      <td>-1.082</td>\n",
       "      <td>-1.250</td>\n",
       "    </tr>\n",
       "    <tr>\n",
       "      <th>2</th>\n",
       "      <td>1.333</td>\n",
       "      <td>0.500</td>\n",
       "      <td>0.333</td>\n",
       "      <td>0.292</td>\n",
       "      <td>-1.000</td>\n",
       "      <td>-0.750</td>\n",
       "      <td>0.000</td>\n",
       "      <td>0.000</td>\n",
       "      <td>-0.250</td>\n",
       "      <td>-0.250</td>\n",
       "      <td>-0.308</td>\n",
       "      <td>-0.833</td>\n",
       "      <td>0.678</td>\n",
       "      <td>-0.789</td>\n",
       "      <td>-0.684</td>\n",
       "      <td>0.200</td>\n",
       "      <td>0.000</td>\n",
       "      <td>2.500</td>\n",
       "      <td>1.556</td>\n",
       "      <td>2.235</td>\n",
       "      <td>0.346</td>\n",
       "      <td>0.000</td>\n",
       "      <td>0.000</td>\n",
       "      <td>-0.134</td>\n",
       "      <td>-0.694</td>\n",
       "    </tr>\n",
       "    <tr>\n",
       "      <th>3</th>\n",
       "      <td>0.000</td>\n",
       "      <td>-0.500</td>\n",
       "      <td>-1.000</td>\n",
       "      <td>-1.333</td>\n",
       "      <td>-1.750</td>\n",
       "      <td>-1.500</td>\n",
       "      <td>0.000</td>\n",
       "      <td>0.000</td>\n",
       "      <td>-0.312</td>\n",
       "      <td>-1.333</td>\n",
       "      <td>-0.385</td>\n",
       "      <td>0.405</td>\n",
       "      <td>-0.770</td>\n",
       "      <td>1.105</td>\n",
       "      <td>0.368</td>\n",
       "      <td>-0.250</td>\n",
       "      <td>0.000</td>\n",
       "      <td>-1.500</td>\n",
       "      <td>0.111</td>\n",
       "      <td>-0.235</td>\n",
       "      <td>-0.654</td>\n",
       "      <td>1.000</td>\n",
       "      <td>-1.191</td>\n",
       "      <td>1.502</td>\n",
       "      <td>0.083</td>\n",
       "    </tr>\n",
       "    <tr>\n",
       "      <th>4</th>\n",
       "      <td>0.000</td>\n",
       "      <td>0.500</td>\n",
       "      <td>0.667</td>\n",
       "      <td>0.533</td>\n",
       "      <td>0.000</td>\n",
       "      <td>-0.250</td>\n",
       "      <td>0.000</td>\n",
       "      <td>0.000</td>\n",
       "      <td>0.688</td>\n",
       "      <td>1.333</td>\n",
       "      <td>-1.308</td>\n",
       "      <td>-0.619</td>\n",
       "      <td>-0.161</td>\n",
       "      <td>-0.789</td>\n",
       "      <td>0.237</td>\n",
       "      <td>0.750</td>\n",
       "      <td>0.000</td>\n",
       "      <td>0.500</td>\n",
       "      <td>0.667</td>\n",
       "      <td>1.000</td>\n",
       "      <td>0.000</td>\n",
       "      <td>1.000</td>\n",
       "      <td>0.439</td>\n",
       "      <td>-0.381</td>\n",
       "      <td>0.250</td>\n",
       "    </tr>\n",
       "  </tbody>\n",
       "</table>\n",
       "</div>"
      ],
      "text/plain": [
       "    age  height(cm)  weight(kg)  waist(cm)  eyesight(left)  eyesight(right)  \\\n",
       "0 0.000       0.000       0.333      0.083           0.500            0.500   \n",
       "1 2.667      -0.500      -0.333      0.833           0.000            0.000   \n",
       "2 1.333       0.500       0.333      0.292          -1.000           -0.750   \n",
       "3 0.000      -0.500      -1.000     -1.333          -1.750           -1.500   \n",
       "4 0.000       0.500       0.667      0.533           0.000           -0.250   \n",
       "\n",
       "   hearing(left)  hearing(right)  systolic  relaxation  fasting blood sugar  \\\n",
       "0          0.000           0.000     0.562       0.917                0.846   \n",
       "1          1.000           1.000     1.438      -0.500               -0.231   \n",
       "2          0.000           0.000    -0.250      -0.250               -0.308   \n",
       "3          0.000           0.000    -0.312      -1.333               -0.385   \n",
       "4          0.000           0.000     0.688       1.333               -1.308   \n",
       "\n",
       "   Cholesterol  triglyceride    HDL    LDL  hemoglobin  Urine protein  \\\n",
       "0        0.095         0.828 -0.263  0.026      -0.400          0.000   \n",
       "1       -0.571         0.506 -1.000 -0.263      -1.000          0.000   \n",
       "2       -0.833         0.678 -0.789 -0.684       0.200          0.000   \n",
       "3        0.405        -0.770  1.105  0.368      -0.250          0.000   \n",
       "4       -0.619        -0.161 -0.789  0.237       0.750          0.000   \n",
       "\n",
       "   serum creatinine    AST    ALT    Gtp  dental caries    BMI  HW_Ratio  \\\n",
       "0             0.000 -0.556  0.176  0.192          0.000  0.379    -0.138   \n",
       "1             1.000 -0.444 -0.588 -0.115          0.000 -0.199    -1.082   \n",
       "2             2.500  1.556  2.235  0.346          0.000  0.000    -0.134   \n",
       "3            -1.500  0.111 -0.235 -0.654          1.000 -1.191     1.502   \n",
       "4             0.500  0.667  1.000  0.000          1.000  0.439    -0.381   \n",
       "\n",
       "   HA_Ratio  \n",
       "0     0.167  \n",
       "1    -1.250  \n",
       "2    -0.694  \n",
       "3     0.083  \n",
       "4     0.250  "
      ]
     },
     "execution_count": 22,
     "metadata": {},
     "output_type": "execute_result"
    }
   ],
   "source": [
    "test_data.head()"
   ]
  },
  {
   "cell_type": "code",
   "execution_count": 32,
   "id": "c2864383",
   "metadata": {},
   "outputs": [],
   "source": [
    "### Dependent & independent features\n",
    "\n",
    "Y = train_data[\"smoking\"]\n",
    "X = train_data[train_data.columns.drop(\"smoking\")]"
   ]
  },
  {
   "cell_type": "code",
   "execution_count": 35,
   "id": "5bfe5008",
   "metadata": {},
   "outputs": [
    {
     "data": {
      "text/plain": [
       "((127404, 25), (31852, 25))"
      ]
     },
     "execution_count": 35,
     "metadata": {},
     "output_type": "execute_result"
    }
   ],
   "source": [
    "### Train test/validation split\n",
    "\n",
    "#splitting into train and test data\n",
    "from sklearn.model_selection import train_test_split\n",
    "\n",
    "X_train, X_valid, Y_train, Y_valid = train_test_split(X,Y,test_size=0.2,random_state=100)\n",
    "\n",
    "X_train.shape, X_valid.shape"
   ]
  },
  {
   "cell_type": "code",
   "execution_count": 36,
   "id": "e7bfedc3",
   "metadata": {},
   "outputs": [
    {
     "name": "stdout",
     "output_type": "stream",
     "text": [
      "Train score : 0.7460911745314119\n",
      "Test score:  0.7423709657164386\n"
     ]
    }
   ],
   "source": [
    "#building and training the model\n",
    "model = LogisticRegression()\n",
    "model.fit(X_train,Y_train)\n",
    "\n",
    "#Evaluating the model on the train and test data for R-squared score\n",
    "train_score = model.score(X_train,Y_train)\n",
    "test_score = model.score(X_valid, Y_valid)\n",
    "\n",
    "print(\"Train score :\", train_score)\n",
    "print(\"Test score: \",test_score)"
   ]
  },
  {
   "cell_type": "code",
   "execution_count": null,
   "id": "c5c3e1b8",
   "metadata": {},
   "outputs": [],
   "source": []
  }
 ],
 "metadata": {
  "kernelspec": {
   "display_name": "Python 3 (ipykernel)",
   "language": "python",
   "name": "python3"
  },
  "language_info": {
   "codemirror_mode": {
    "name": "ipython",
    "version": 3
   },
   "file_extension": ".py",
   "mimetype": "text/x-python",
   "name": "python",
   "nbconvert_exporter": "python",
   "pygments_lexer": "ipython3",
   "version": "3.9.12"
  }
 },
 "nbformat": 4,
 "nbformat_minor": 5
}
